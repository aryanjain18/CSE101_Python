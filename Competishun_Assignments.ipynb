{
 "cells": [
  {
   "cell_type": "markdown",
   "metadata": {},
   "source": [
    "# ASSIGNMENT 1"
   ]
  },
  {
   "cell_type": "markdown",
   "metadata": {},
   "source": [
    "Q1. Write program to print last character of any string? ie Print \"E\" from \"IIT-JEE\"?"
   ]
  },
  {
   "cell_type": "code",
   "execution_count": 4,
   "metadata": {},
   "outputs": [
    {
     "name": "stdout",
     "output_type": "stream",
     "text": [
      "n\n"
     ]
    }
   ],
   "source": [
    "x = input()\n",
    "print(x[-1])"
   ]
  },
  {
   "cell_type": "markdown",
   "metadata": {},
   "source": [
    "Q2. Write a program to find the last digit of a number?"
   ]
  },
  {
   "cell_type": "code",
   "execution_count": 1,
   "metadata": {},
   "outputs": [
    {
     "name": "stdout",
     "output_type": "stream",
     "text": [
      "9\n",
      "0\n"
     ]
    }
   ],
   "source": [
    "num = 123456789\n",
    "print(num%10)"
   ]
  },
  {
   "cell_type": "code",
   "execution_count": 5,
   "metadata": {},
   "outputs": [
    {
     "name": "stdout",
     "output_type": "stream",
     "text": [
      "0\n"
     ]
    }
   ],
   "source": [
    "num = 77650\n",
    "print(num%10)"
   ]
  },
  {
   "cell_type": "markdown",
   "metadata": {},
   "source": [
    "Q3. Write a program to find the last name from a given full name?"
   ]
  },
  {
   "cell_type": "code",
   "execution_count": null,
   "metadata": {},
   "outputs": [],
   "source": [
    "name = \"Aryan Jain\"\n",
    "x = name.find(\" \")\n",
    "print(name[:x])"
   ]
  },
  {
   "cell_type": "markdown",
   "metadata": {},
   "source": [
    "Q4. Write a program to exchange the values of 3 variables in a cyclic manner, without using any new variable?"
   ]
  },
  {
   "cell_type": "code",
   "execution_count": null,
   "metadata": {},
   "outputs": [],
   "source": [
    "x = 41\n",
    "y = 57\n",
    "z = 39\n",
    "print(x,y,z)\n",
    "x = x+y-z\n",
    "y = x-y+z\n",
    "z = x-y+z\n",
    "x = y+z-x\n",
    "print(x,y,z)"
   ]
  },
  {
   "cell_type": "markdown",
   "metadata": {},
   "source": [
    "Q5. Write a program which prints the output of division of two integers as a proper fraction?"
   ]
  },
  {
   "cell_type": "code",
   "execution_count": null,
   "metadata": {},
   "outputs": [],
   "source": [
    "D = 357\n",
    "d = 19\n",
    "q = D//d\n",
    "r = D%d\n",
    "print(q,\" %s\" %r, \"/ %s\" %d)\n",
    "\n",
    "D = 121\n",
    "d = 5\n",
    "q = D//d\n",
    "r = D%d\n",
    "print(q,\" %s\" %r, \"/ %s\" %d)"
   ]
  },
  {
   "cell_type": "markdown",
   "metadata": {},
   "source": [
    "Q6. Write a program to find the greatest integer less than or equal to a number?"
   ]
  },
  {
   "cell_type": "code",
   "execution_count": null,
   "metadata": {},
   "outputs": [],
   "source": [
    "x = 1.67\n",
    "y = x%1\n",
    "print(x-y)"
   ]
  },
  {
   "cell_type": "code",
   "execution_count": null,
   "metadata": {},
   "outputs": [],
   "source": [
    "\n",
    "x = -3.57\n",
    "y = x%1\n",
    "print(x-y)"
   ]
  },
  {
   "cell_type": "markdown",
   "metadata": {},
   "source": [
    "# ASSIGNMENT 2"
   ]
  },
  {
   "cell_type": "markdown",
   "metadata": {},
   "source": [
    "Q1. Write a function to find distance between two points if thier x & y coordinates are given?"
   ]
  },
  {
   "cell_type": "code",
   "execution_count": 10,
   "metadata": {},
   "outputs": [
    {
     "name": "stdout",
     "output_type": "stream",
     "text": [
      "1.4142135623730951\n"
     ]
    }
   ],
   "source": [
    "x1 = float(input(\"Enter X1 = ?\"))\n",
    "y1 = float(input(\"Enter Y1 = ?\"))\n",
    "x2 = float(input(\"Enter X2 = ?\"))\n",
    "y2 = float(input(\"Enter Y2 = ?\"))\n",
    "\n",
    "def distance(x1,x2,y1,y2):\n",
    "    s = ((x1 - x2)**2)+((y1 - y2)**2)\n",
    "    return ((s)**(1/2))\n",
    "print(distance(x1,x2,y1,y2))"
   ]
  },
  {
   "cell_type": "markdown",
   "metadata": {},
   "source": [
    "Q2. Write a function which gives SQUARES & CUBES of any integer?"
   ]
  },
  {
   "cell_type": "code",
   "execution_count": 12,
   "metadata": {},
   "outputs": [
    {
     "name": "stdout",
     "output_type": "stream",
     "text": [
      "(9, 27)\n"
     ]
    }
   ],
   "source": [
    "def fun1(r):\n",
    "    return r**2, r**3\n",
    "i = int(input())\n",
    "print(fun1(i))"
   ]
  },
  {
   "cell_type": "markdown",
   "metadata": {},
   "source": [
    "Q3. Write a function to check if a number falls within a given range or not? (3 inputs - LL, UL, Number | 1 Output - True/False)"
   ]
  },
  {
   "cell_type": "code",
   "execution_count": 14,
   "metadata": {},
   "outputs": [
    {
     "name": "stdout",
     "output_type": "stream",
     "text": [
      "False\n"
     ]
    }
   ],
   "source": [
    "def range_check(LL,UL,N):\n",
    "    return N >= LL and N <= UL\n",
    "LL = int(input(\"Enter LL?\"))\n",
    "UL = int(input(\"Enter UL?\"))\n",
    "N = int(input(\"Enter Number?\"))\n",
    "print(range_check(LL,UL,N))"
   ]
  },
  {
   "cell_type": "markdown",
   "metadata": {},
   "source": [
    "Q4. Write a function which takes 3 numbers as input, and returns thier root mean square as output?"
   ]
  },
  {
   "cell_type": "code",
   "execution_count": 17,
   "metadata": {},
   "outputs": [
    {
     "name": "stdout",
     "output_type": "stream",
     "text": [
      "2.160246899469287\n"
     ]
    }
   ],
   "source": [
    "def rms_3(a,b,c):\n",
    "    m = ((a**2)+(b**2)+(c**2))/3\n",
    "    return m**(1/2)\n",
    "\n",
    "a = int(input(\"Enter Number 1?\"))\n",
    "b = int(input(\"Enter Number 2?\"))\n",
    "c = int(input(\"Enter Number 3?\"))\n",
    "\n",
    "print(rms_3(a,b,c))"
   ]
  },
  {
   "cell_type": "markdown",
   "metadata": {},
   "source": [
    "Q5. Write a program to give the number of uppercase characters in a string?"
   ]
  },
  {
   "cell_type": "code",
   "execution_count": 19,
   "metadata": {},
   "outputs": [
    {
     "name": "stdout",
     "output_type": "stream",
     "text": [
      "3\n"
     ]
    }
   ],
   "source": [
    "import re\n",
    "string = input()\n",
    "n = len(re.findall('[A-Z]',string))\n",
    "print(n)"
   ]
  }
 ],
 "metadata": {
  "kernelspec": {
   "display_name": "Python 3.9.6 64-bit",
   "language": "python",
   "name": "python3"
  },
  "language_info": {
   "codemirror_mode": {
    "name": "ipython",
    "version": 3
   },
   "file_extension": ".py",
   "mimetype": "text/x-python",
   "name": "python",
   "nbconvert_exporter": "python",
   "pygments_lexer": "ipython3",
   "version": "3.9.6"
  },
  "orig_nbformat": 4,
  "vscode": {
   "interpreter": {
    "hash": "31f2aee4e71d21fbe5cf8b01ff0e069b9275f58929596ceb00d14d90e3e16cd6"
   }
  }
 },
 "nbformat": 4,
 "nbformat_minor": 2
}
