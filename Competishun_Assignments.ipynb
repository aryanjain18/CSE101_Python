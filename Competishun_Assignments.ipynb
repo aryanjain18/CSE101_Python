{
 "cells": [
  {
   "cell_type": "markdown",
   "metadata": {},
   "source": [
    "# ASSIGNMENT 1"
   ]
  },
  {
   "cell_type": "markdown",
   "metadata": {},
   "source": [
    "Q1. Write program to print last character of any string? ie Print \"E\" from \"IIT-JEE\"?"
   ]
  },
  {
   "cell_type": "code",
   "execution_count": 4,
   "metadata": {},
   "outputs": [
    {
     "name": "stdout",
     "output_type": "stream",
     "text": [
      "n\n"
     ]
    }
   ],
   "source": [
    "x = input()\n",
    "print(x[-1])"
   ]
  },
  {
   "cell_type": "markdown",
   "metadata": {},
   "source": [
    "Q2. Write a program to find the last digit of a number?"
   ]
  },
  {
   "cell_type": "code",
   "execution_count": 1,
   "metadata": {},
   "outputs": [
    {
     "name": "stdout",
     "output_type": "stream",
     "text": [
      "9\n",
      "0\n"
     ]
    }
   ],
   "source": [
    "num = 123456789\n",
    "print(num%10)"
   ]
  },
  {
   "cell_type": "code",
   "execution_count": 5,
   "metadata": {},
   "outputs": [
    {
     "name": "stdout",
     "output_type": "stream",
     "text": [
      "0\n"
     ]
    }
   ],
   "source": [
    "num = 77650\n",
    "print(num%10)"
   ]
  },
  {
   "cell_type": "markdown",
   "metadata": {},
   "source": [
    "Q3. Write a program to find the last name from a given full name?"
   ]
  },
  {
   "cell_type": "code",
   "execution_count": null,
   "metadata": {},
   "outputs": [],
   "source": [
    "name = \"Aryan Jain\"\n",
    "x = name.find(\" \")\n",
    "print(name[:x])"
   ]
  },
  {
   "cell_type": "markdown",
   "metadata": {},
   "source": [
    "Q4. Write a program to exchange the values of 3 variables in a cyclic manner, without using any new variable?"
   ]
  },
  {
   "cell_type": "code",
   "execution_count": null,
   "metadata": {},
   "outputs": [],
   "source": [
    "x = 41\n",
    "y = 57\n",
    "z = 39\n",
    "print(x,y,z)\n",
    "x = x+y-z\n",
    "y = x-y+z\n",
    "z = x-y+z\n",
    "x = y+z-x\n",
    "print(x,y,z)"
   ]
  },
  {
   "cell_type": "markdown",
   "metadata": {},
   "source": [
    "Q5. Write a program which prints the output of division of two integers as a proper fraction?"
   ]
  },
  {
   "cell_type": "code",
   "execution_count": null,
   "metadata": {},
   "outputs": [],
   "source": [
    "D = 357\n",
    "d = 19\n",
    "q = D//d\n",
    "r = D%d\n",
    "print(q,\" %s\" %r, \"/ %s\" %d)\n",
    "\n",
    "D = 121\n",
    "d = 5\n",
    "q = D//d\n",
    "r = D%d\n",
    "print(q,\" %s\" %r, \"/ %s\" %d)"
   ]
  },
  {
   "cell_type": "markdown",
   "metadata": {},
   "source": [
    "Q6. Write a program to find the greatest integer less than or equal to a number?"
   ]
  },
  {
   "cell_type": "code",
   "execution_count": null,
   "metadata": {},
   "outputs": [],
   "source": [
    "x = 1.67\n",
    "y = x%1\n",
    "print(x-y)"
   ]
  },
  {
   "cell_type": "code",
   "execution_count": null,
   "metadata": {},
   "outputs": [],
   "source": [
    "\n",
    "x = -3.57\n",
    "y = x%1\n",
    "print(x-y)"
   ]
  },
  {
   "cell_type": "markdown",
   "metadata": {},
   "source": [
    "# ASSIGNMENT 2"
   ]
  },
  {
   "cell_type": "markdown",
   "metadata": {},
   "source": [
    "Q1. Write a function to find distance between two points if thier x & y coordinates are given?"
   ]
  },
  {
   "cell_type": "code",
   "execution_count": 10,
   "metadata": {},
   "outputs": [
    {
     "name": "stdout",
     "output_type": "stream",
     "text": [
      "1.4142135623730951\n"
     ]
    }
   ],
   "source": [
    "x1 = float(input(\"Enter X1 = ?\"))\n",
    "y1 = float(input(\"Enter Y1 = ?\"))\n",
    "x2 = float(input(\"Enter X2 = ?\"))\n",
    "y2 = float(input(\"Enter Y2 = ?\"))\n",
    "\n",
    "def distance(x1,x2,y1,y2):\n",
    "    s = ((x1 - x2)**2)+((y1 - y2)**2)\n",
    "    return ((s)**(1/2))\n",
    "print(distance(x1,x2,y1,y2))"
   ]
  },
  {
   "cell_type": "markdown",
   "metadata": {},
   "source": [
    "Q2. Write a function which gives SQUARES & CUBES of any integer?"
   ]
  },
  {
   "cell_type": "code",
   "execution_count": 12,
   "metadata": {},
   "outputs": [
    {
     "name": "stdout",
     "output_type": "stream",
     "text": [
      "(9, 27)\n"
     ]
    }
   ],
   "source": [
    "def fun1(r):\n",
    "    return r**2, r**3\n",
    "i = int(input())\n",
    "print(fun1(i))"
   ]
  },
  {
   "cell_type": "markdown",
   "metadata": {},
   "source": [
    "Q3. Write a function to check if a number falls within a given range or not? (3 inputs - LL, UL, Number | 1 Output - True/False)"
   ]
  },
  {
   "cell_type": "code",
   "execution_count": 14,
   "metadata": {},
   "outputs": [
    {
     "name": "stdout",
     "output_type": "stream",
     "text": [
      "False\n"
     ]
    }
   ],
   "source": [
    "def range_check(LL,UL,N):\n",
    "    return N >= LL and N <= UL\n",
    "LL = int(input(\"Enter LL?\"))\n",
    "UL = int(input(\"Enter UL?\"))\n",
    "N = int(input(\"Enter Number?\"))\n",
    "print(range_check(LL,UL,N))"
   ]
  },
  {
   "cell_type": "markdown",
   "metadata": {},
   "source": [
    "Q4. Write a function which takes 3 numbers as input, and returns thier root mean square as output?"
   ]
  },
  {
   "cell_type": "code",
   "execution_count": 17,
   "metadata": {},
   "outputs": [
    {
     "name": "stdout",
     "output_type": "stream",
     "text": [
      "2.160246899469287\n"
     ]
    }
   ],
   "source": [
    "def rms_3(a,b,c):\n",
    "    m = ((a**2)+(b**2)+(c**2))/3\n",
    "    return m**(1/2)\n",
    "\n",
    "a = int(input(\"Enter Number 1?\"))\n",
    "b = int(input(\"Enter Number 2?\"))\n",
    "c = int(input(\"Enter Number 3?\"))\n",
    "\n",
    "print(rms_3(a,b,c))"
   ]
  },
  {
   "cell_type": "markdown",
   "metadata": {},
   "source": [
    "Q5. Write a program to give the number of uppercase characters in a string?"
   ]
  },
  {
   "cell_type": "code",
   "execution_count": 19,
   "metadata": {},
   "outputs": [
    {
     "name": "stdout",
     "output_type": "stream",
     "text": [
      "3\n"
     ]
    }
   ],
   "source": [
    "import re\n",
    "string = input()\n",
    "n = len(re.findall('[A-Z]',string))\n",
    "print(n)"
   ]
  },
  {
   "cell_type": "markdown",
   "metadata": {},
   "source": [
    "# ASSIGNMENT 3"
   ]
  },
  {
   "cell_type": "markdown",
   "metadata": {},
   "source": [
    "Q1. Write a program which takes a natural number and returns double the number if the number satisfies at least one of the conditions (i) Number is divisible by 3 (ii) Number is less than 10 (iii) number is a perfect square. In all the other cases, it should return triple the number."
   ]
  },
  {
   "cell_type": "code",
   "execution_count": 4,
   "metadata": {},
   "outputs": [
    {
     "name": "stdout",
     "output_type": "stream",
     "text": [
      "30\n"
     ]
    }
   ],
   "source": [
    "def fun1(n):\n",
    "    if n%3==0 or n<10 or ((n)**(0.5))%1==0:\n",
    "        return n*2\n",
    "    else:\n",
    "        return n*3\n",
    "n = int(input())\n",
    "print(fun1(n))"
   ]
  },
  {
   "cell_type": "code",
   "execution_count": 4,
   "metadata": {},
   "outputs": [
    {
     "name": "stdout",
     "output_type": "stream",
     "text": [
      "98\n"
     ]
    }
   ],
   "source": [
    "def isperfectsq(n):\n",
    "    y = n**(0.5)\n",
    "    return int(y)==y\n",
    "\n",
    "def fun1(n):\n",
    "    if n%3==0 or n<10 or isperfectsq(n):\n",
    "        return n*2\n",
    "    else:\n",
    "        return n*3\n",
    "\n",
    "n = int(input())\n",
    "print(fun1(n))"
   ]
  },
  {
   "cell_type": "markdown",
   "metadata": {},
   "source": [
    "Q2. Write a function to return the maximum of three given numbers."
   ]
  },
  {
   "cell_type": "code",
   "execution_count": 7,
   "metadata": {},
   "outputs": [
    {
     "name": "stdout",
     "output_type": "stream",
     "text": [
      "a = b = c\n"
     ]
    }
   ],
   "source": [
    "a = int(input(\"Enter Number 1\"))\n",
    "b = int(input(\"Enter Number 2\"))\n",
    "c = int(input(\"Enter Number 3\"))\n",
    "\n",
    "if a>b and a>c:\n",
    "    print(a)\n",
    "elif b>a and b>c:\n",
    "    print(b)\n",
    "elif c>a and c>b:\n",
    "    print(c)\n",
    "elif a==c and a>b:\n",
    "    print(a)\n",
    "elif a==b and a>c:\n",
    "    print(a)\n",
    "elif b==c and b>a:\n",
    "    print(b)\n",
    "else:\n",
    "    print(\"a = b = c\")"
   ]
  },
  {
   "cell_type": "code",
   "execution_count": 8,
   "metadata": {},
   "outputs": [
    {
     "name": "stdout",
     "output_type": "stream",
     "text": [
      "3\n"
     ]
    }
   ],
   "source": [
    "a = int(input(\"Enter Number 1\"))\n",
    "b = int(input(\"Enter Number 2\"))\n",
    "c = int(input(\"Enter Number 3\"))\n",
    "\n",
    "def maxof3(a,b,c):\n",
    "    if a>=b and a>=c:\n",
    "        return a\n",
    "    elif b>=c and b>=a:\n",
    "        return b\n",
    "    elif c>=a and c>=b:\n",
    "        return c\n",
    "\n",
    "print(maxof3(a,b,c))"
   ]
  },
  {
   "cell_type": "markdown",
   "metadata": {},
   "source": [
    "Q3. Write a function to evaluate if three given positive numbers constitute sides of a triangle or not. If a triangle is possible, also tell if the triangle is Equilateral, Isosceles or scalene."
   ]
  },
  {
   "cell_type": "code",
   "execution_count": 1,
   "metadata": {},
   "outputs": [
    {
     "name": "stdout",
     "output_type": "stream",
     "text": [
      "No! Triangle can NOT be formed\n"
     ]
    }
   ],
   "source": [
    "a = int(input(\"Enter Number 1\"))\n",
    "b = int(input(\"Enter Number 2\"))\n",
    "c = int(input(\"Enter Number 3\"))\n",
    "\n",
    "if ((a+b)>c) and ((c+b)>a) and ((a+c)>b):\n",
    "    print(\"Yes! Triangle can be formed\")\n",
    "    if a==b and b==c:\n",
    "        print(\"Equilateral Triangle\")\n",
    "    elif a==b or b==c or a==c:\n",
    "        print(\"Isoceles Triangle\")\n",
    "    else:\n",
    "        print(\"Scalene Triangle\")\n",
    "else:\n",
    "    print(\"No! Triangle can NOT be formed\")"
   ]
  },
  {
   "cell_type": "code",
   "execution_count": 10,
   "metadata": {},
   "outputs": [
    {
     "name": "stdout",
     "output_type": "stream",
     "text": [
      "No! Triangle can NOT be formed\n",
      "None\n"
     ]
    }
   ],
   "source": [
    "a = int(input(\"Enter Number 1\"))\n",
    "b = int(input(\"Enter Number 2\"))\n",
    "c = int(input(\"Enter Number 3\"))\n",
    "\n",
    "def triangle_ineq(x,y,z): #There are 2 triangle inequalities - a + b > c and | a - b | < c\n",
    "    if x + y > z and abs (x - y) < z: # PYTHON inbuilt MODULUS/Absolute Function => abs()\n",
    "        return True\n",
    "    else:\n",
    "        return False\n",
    "\n",
    "def typetriangle(x,y,z):\n",
    "    if triangle_ineq(x,y,z) and triangle_ineq(y,z,x) and triangle_ineq(z,x,y):\n",
    "        if x==y==z:\n",
    "            print(\"Equilateral Triangle\")\n",
    "        elif x==y or x==z or y==z:\n",
    "            print(\"Isoceles Triangle\")\n",
    "        else:\n",
    "            print(\"Scalene Triangle\")\n",
    "    else:\n",
    "        print(\"No! Triangle can NOT be formed\")\n",
    "\n",
    "print(typetriangle(a,b,c))"
   ]
  },
  {
   "cell_type": "markdown",
   "metadata": {},
   "source": [
    "Q4. Write a function to detect if a given string is a valid phone number or not. (A valid phone number is a 10 digit numeric. It should not contain anything other than numbers. Should not start from zero.) If it is, return true, else return false."
   ]
  },
  {
   "cell_type": "code",
   "execution_count": 17,
   "metadata": {},
   "outputs": [
    {
     "name": "stdout",
     "output_type": "stream",
     "text": [
      "NO, NOT A Valid Phone Number.\n"
     ]
    }
   ],
   "source": [
    "i = input()\n",
    "\n",
    "import re\n",
    "n = len(re.findall('[0-9]',i))\n",
    "\n",
    "if len(i) == n:\n",
    "    if n==11 and i[0]==\"0\":\n",
    "        print(\"Yes, Valid Phone Number.\")\n",
    "    elif n==10 and i[0]!=\"0\":\n",
    "        print(\"Yes, Valid Phone Number.\")\n",
    "    else:\n",
    "        print(\"NO, NOT A Valid Phone Number.\")\n",
    "else:\n",
    "        print(\"NO, NOT A Valid Phone Number. As contains digits other than numbers\")\n"
   ]
  },
  {
   "cell_type": "code",
   "execution_count": 15,
   "metadata": {},
   "outputs": [
    {
     "name": "stdout",
     "output_type": "stream",
     "text": [
      "NO, NOT A Valid Phone Number. As contains digits other than numbers\n"
     ]
    }
   ],
   "source": [
    "i = input()\n",
    "\n",
    "import re\n",
    "n = len(re.findall('[0-9]',i))\n",
    "\n",
    "if len(i) == n:\n",
    "    if n!=10:\n",
    "        print(\"NO, Not a Valid Phone Number. As NOT of 10 digits\")\n",
    "    elif n==10 and i[0]!=\"0\":\n",
    "        print(\"Yes, Valid Phone Number.\")\n",
    "    else:\n",
    "        print(\"NO, NOT A Valid Phone Number. As phone number starts with 0\")\n",
    "else:\n",
    "        print(\"NO, NOT A Valid Phone Number. As contains digits other than numbers\")\n"
   ]
  },
  {
   "cell_type": "markdown",
   "metadata": {},
   "source": [
    "Q5. Write a function that takes coordinates of 4 points, and checks if those four points are vertices of a square or not."
   ]
  },
  {
   "cell_type": "code",
   "execution_count": 7,
   "metadata": {},
   "outputs": [
    {
     "name": "stdout",
     "output_type": "stream",
     "text": [
      "YES, Points Form A Square\n"
     ]
    }
   ],
   "source": [
    "def distance(Xa,Xb,Ya,Yb):\n",
    "    dsq = (Xb - Xa)**2 + (Ya - Yb)**2\n",
    "    d = dsq ** 0.5\n",
    "    return d\n",
    "\n",
    "Xa = int(input())\n",
    "Xb = int(input())\n",
    "Xc = int(input())\n",
    "Xd = int(input())\n",
    "\n",
    "Ya = int(input())\n",
    "Yb = int(input())\n",
    "Yc = int(input())\n",
    "Yd = int(input())\n",
    "\n",
    "ab = distance (Xa,Xb,Ya,Yb)\n",
    "ac = distance (Xa,Xc,Ya,Yc)\n",
    "da = distance (Xa,Xd,Ya,Yd)\n",
    "bc = distance (Xc,Xb,Yc,Yb)\n",
    "bd = distance (Xd,Xb,Yd,Yb)\n",
    "cd = distance (Xc,Xd,Yc,Yd)\n",
    "\n",
    "#4 points are vertices of a square if ab = bc = cd = da AND ac = bd\n",
    "#SQUARE HAS ITS 4 SIDES EQUAL and ITS BOTH DIAGNOLS EQUAL.\n",
    "\n",
    "if ab == bc and ab == cd and ab == da and bc == cd and cd == da and ac == bd:\n",
    "    print(\"YES, Points Form A Square\")\n",
    "else:\n",
    "    print(\"NO, Points Do NOT Form A Square\")"
   ]
  },
  {
   "cell_type": "code",
   "execution_count": null,
   "metadata": {},
   "outputs": [],
   "source": [
    "def distance(Xa,Xb,Ya,Yb):\n",
    "    dsq = (Xb - Xa)**2 + (Ya - Yb)**2\n",
    "    d = dsq ** 0.5\n",
    "    return d\n",
    "\n",
    "Xa = int(input())\n",
    "Xb = int(input())\n",
    "Xc = int(input())\n",
    "Xd = int(input())\n",
    "\n",
    "Ya = int(input())\n",
    "Yb = int(input())\n",
    "Yc = int(input())\n",
    "Yd = int(input())\n",
    "\n",
    "ab = distance (Xa,Xb,Ya,Yb)\n",
    "ac = distance (Xa,Xc,Ya,Yc)\n",
    "da = distance (Xa,Xd,Ya,Yd)\n",
    "bc = distance (Xc,Xb,Yc,Yb)\n",
    "bd = distance (Xd,Xb,Yd,Yb)\n",
    "cd = distance (Xc,Xd,Yc,Yd)\n",
    "\n",
    "#4 points are vertices of a square if ab = bc = cd = da AND ac = bd\n",
    "#SQUARE HAS ITS 4 SIDES EQUAL and ITS BOTH DIAGNOLS EQUAL.\n",
    "\n",
    "#IFF points are entered in cyclic order => Diagnols == ac and bd\n",
    "if ab == bc == cd == da and ac == bd:\n",
    "    print(\"YES, Points Form A Square\")\n",
    "\n",
    "#BUT IF points are entered in cyclic order => Diagnols == ab and cd (HENCE a,c,b,d - will be in cyclic order)\n",
    "elif ac == da == bc == bd and ab == cd:\n",
    "    print(\"YES, Points Form A Square\")\n",
    "    \n",
    "else:\n",
    "    print(\"NO, Points Do NOT Form A Square\")"
   ]
  },
  {
   "cell_type": "markdown",
   "metadata": {},
   "source": [
    "Q. Advanced Challange: In the above problem, check if 4 points constitute a quadrilateral or not. If it represents a quadrilateral, classify it as Parallelogram, Rhombus, Rectangle, Square, Cyclic. Trapezium etc."
   ]
  },
  {
   "cell_type": "code",
   "execution_count": null,
   "metadata": {},
   "outputs": [],
   "source": [
    "\n",
    "#RHOMBUS - 4 SIDES EQUAL, Diag1 != Diag2\n",
    "#Square - All 4 SIDES EQUAL, Diag1 == Diag2"
   ]
  },
  {
   "attachments": {},
   "cell_type": "markdown",
   "metadata": {},
   "source": [
    "# ASSIGNMENT 4"
   ]
  },
  {
   "attachments": {},
   "cell_type": "markdown",
   "metadata": {},
   "source": [
    "Q1. Write a program to find number of vowels, consonants, number of spaces and other characters in a string?"
   ]
  },
  {
   "cell_type": "code",
   "execution_count": 39,
   "metadata": {},
   "outputs": [
    {
     "name": "stdout",
     "output_type": "stream",
     "text": [
      "Number of vowels = 4\n",
      "Number of consonants = 5\n",
      "Number of spaces = 1\n",
      "Number of other characters = 1\n"
     ]
    }
   ],
   "source": [
    "string = input()\n",
    "l = len(string)\n",
    "\n",
    "vow = 0\n",
    "con = 0\n",
    "spc = 0\n",
    "oth = 0\n",
    "\n",
    "for i in range(l):\n",
    "    if string[i] in \"aeiou\" or string[i] in \"AEIOU\":\n",
    "        vow+=1\n",
    "    elif string[i] in \"bcdfghjklmnpqrstvwxyz\" or string[i] in \"BCDFGHJKLMNPQRSTVWXYZ\":\n",
    "        con+=1\n",
    "    elif string[i] == \" \":\n",
    "        spc+=1\n",
    "\n",
    "oth = l - vow - con - spc\n",
    "\n",
    "print(\"Number of vowels = %s\" %vow)\n",
    "print(\"Number of consonants = %s\" %con)\n",
    "print(\"Number of spaces = %s\" %spc)\n",
    "print(\"Number of other characters = %s\" %oth)\n"
   ]
  },
  {
   "cell_type": "code",
   "execution_count": 41,
   "metadata": {},
   "outputs": [
    {
     "name": "stdout",
     "output_type": "stream",
     "text": [
      "Number of vowels = 4\n",
      "Number of consonants = 5\n",
      "Number of spaces = 1\n",
      "Number of other characters = 1\n"
     ]
    }
   ],
   "source": [
    "string = input()\n",
    "l = len(string)\n",
    "\n",
    "import re\n",
    "\n",
    "vow = 0\n",
    "con = 0\n",
    "spc = 0\n",
    "oth = 0\n",
    "\n",
    "for i in range(l):\n",
    "    if string[i] in \"aeiou\" \\\n",
    "    or string[i] in \"AEIOU\":\n",
    "        vow+=1\n",
    "    elif string[i].isalpha(): # Is a ALPHABET and NOT a vowel => IS a CONSONANT\n",
    "        con+=1\n",
    "    elif string[i] == \" \":\n",
    "        spc+=1\n",
    "    else:\n",
    "        oth+=1 #If NOTA => IS other character\n",
    "\n",
    "print(\"Number of vowels = %s\" %vow)\n",
    "print(\"Number of consonants = %s\" %con)\n",
    "print(\"Number of spaces = %s\" %spc)\n",
    "print(\"Number of other characters = %s\" %oth)\n"
   ]
  },
  {
   "attachments": {},
   "cell_type": "markdown",
   "metadata": {},
   "source": [
    "Q2. Write a program to find and print common characters in two strings"
   ]
  },
  {
   "cell_type": "code",
   "execution_count": 43,
   "metadata": {},
   "outputs": [
    {
     "name": "stdout",
     "output_type": "stream",
     "text": [
      "a\n",
      "r\n",
      "y\n",
      " \n",
      "4\n"
     ]
    }
   ],
   "source": [
    "s1 = input()\n",
    "s2 = input()\n",
    "count = 0\n",
    "\n",
    "for i in range(len(s1)):\n",
    "    if s1[i] not in s1[:i] and s1[i] in s2: #s1[i] not in s1[:i] - wo element pehle na aa chuka ho string1 me - reppetitive elements nahi check karenge\n",
    "        count+=1\n",
    "        print(s1[i])\n",
    "    else:\n",
    "        continue\n",
    "    \n",
    "print(count)"
   ]
  },
  {
   "attachments": {},
   "cell_type": "markdown",
   "metadata": {},
   "source": [
    "\n",
    "Q3. Write a program to print Collatz sequence of any natural number. (Collatz sequence starts from any natural number, if the number is even, it halves the number and if the number is odd, it triples it and adds 1. It stops when the sequence reaches 1).\n"
   ]
  },
  {
   "cell_type": "code",
   "execution_count": 44,
   "metadata": {},
   "outputs": [
    {
     "name": "stdout",
     "output_type": "stream",
     "text": [
      "5\n",
      "16\n",
      "8\n",
      "4\n",
      "2\n",
      "1\n",
      "Number of iterations = 5\n"
     ]
    }
   ],
   "source": [
    "def collatz(n):\n",
    "    if n%2 == 0:\n",
    "        return int(n/2)\n",
    "    else:\n",
    "        return int(3*n+1)\n",
    "\n",
    "num = int(input())\n",
    "print(num)\n",
    "\n",
    "count = 0\n",
    "while num>1:\n",
    "    num = collatz(num)\n",
    "    print(num)\n",
    "    count+=1\n",
    "\n",
    "print(\"Number of iterations = %s\" %count)"
   ]
  },
  {
   "cell_type": "markdown",
   "metadata": {},
   "source": [
    "\n",
    "Q4. Write a program to print first n rows of pascal's triangle and print it."
   ]
  },
  {
   "cell_type": "code",
   "execution_count": null,
   "metadata": {},
   "outputs": [],
   "source": [
    "'''PASCALS Triangle ---->\n",
    "     0C0\n",
    "   1C0 1C1\n",
    "  2C0 2C1 2C2\n",
    "-- -- -- -- --\n",
    "'''"
   ]
  },
  {
   "cell_type": "code",
   "execution_count": 66,
   "metadata": {},
   "outputs": [
    {
     "name": "stdout",
     "output_type": "stream",
     "text": [
      "1   \n",
      "1   1   \n",
      "1   2   1   \n",
      "1   3   3   1   \n",
      "1   4   6   4   1   \n",
      "1   5   10   10   5   1   \n",
      "1   6   15   20   15   6   1   \n",
      "1   7   21   35   35   21   7   1   \n"
     ]
    }
   ],
   "source": [
    "def fact(n):\n",
    "    r = 1\n",
    "    for i in range(n):\n",
    "        r*=(i+1)\n",
    "    return r\n",
    "\n",
    "def c(n,r):\n",
    "    return int(fact(n)/((fact(r))*(fact(n-r))))\n",
    "\n",
    "num = int(input())\n",
    "\n",
    "#Loop to find nCr and print it - WITHOUT proper spacing!!!  \n",
    "i = 0\n",
    "while i<=num:\n",
    "    for j in range(i+1):\n",
    "        print(c(i,j),end=\"   \")\n",
    "    print()\n",
    "    i+=1"
   ]
  },
  {
   "cell_type": "code",
   "execution_count": 72,
   "metadata": {},
   "outputs": [
    {
     "name": "stdout",
     "output_type": "stream",
     "text": [
      "                1   \n",
      "              1   1   \n",
      "            1   2   1   \n",
      "          1   3   3   1   \n",
      "        1   4   6   4   1   \n",
      "      1   5   10   10   5   1   \n",
      "    1   6   15   20   15   6   1   \n",
      "  1   7   21   35   35   21   7   1   \n",
      "1   8   28   56   70   56   28   8   1   \n"
     ]
    }
   ],
   "source": [
    " def fact(n):\n",
    "    r = 1\n",
    "    for i in range(n):\n",
    "        r*=(i+1)\n",
    "    return r\n",
    "\n",
    "def c(n,r):\n",
    "    return int(fact(n)/((fact(r))*(fact(n-r))))\n",
    "\n",
    "num = int(input())\n",
    "\n",
    "#Loop to find nCr and print it - WITHOUT proper spacing!!!  \n",
    "i = 0\n",
    "while i<=num:\n",
    "       for j in range(n-i-1):\n",
    "              print(\"  \",end=\"\")\n",
    "       for j in range(i+1):\n",
    "        print(c(i,j),end=\"   \")\n",
    "       print()\n",
    "       i+=1"
   ]
  },
  {
   "attachments": {},
   "cell_type": "markdown",
   "metadata": {},
   "source": [
    "Q5. Write a program to write all the palindrome dates in the current century (Assuming dates are written in ddmmyyyy format). Take care of leap years as well. From 2000 to 2100 For Example 20122102, 12022012 etc."
   ]
  },
  {
   "cell_type": "code",
   "execution_count": null,
   "metadata": {},
   "outputs": [],
   "source": []
  }
 ],
 "metadata": {
  "kernelspec": {
   "display_name": "Python 3.9.6 64-bit",
   "language": "python",
   "name": "python3"
  },
  "language_info": {
   "codemirror_mode": {
    "name": "ipython",
    "version": 3
   },
   "file_extension": ".py",
   "mimetype": "text/x-python",
   "name": "python",
   "nbconvert_exporter": "python",
   "pygments_lexer": "ipython3",
   "version": "3.9.6"
  },
  "orig_nbformat": 4,
  "vscode": {
   "interpreter": {
    "hash": "31f2aee4e71d21fbe5cf8b01ff0e069b9275f58929596ceb00d14d90e3e16cd6"
   }
  }
 },
 "nbformat": 4,
 "nbformat_minor": 2
}
