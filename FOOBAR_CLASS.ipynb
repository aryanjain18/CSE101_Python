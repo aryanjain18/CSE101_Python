{
 "cells": [
  {
   "cell_type": "markdown",
   "metadata": {},
   "source": [
    "# FOOBAR CLASS - 14.11.2022 - Competitive Programing :)\n"
   ]
  },
  {
   "cell_type": "markdown",
   "metadata": {},
   "source": [
    "MUST DO TOPICS:- Dynamic Programing, Binary Search\n"
   ]
  },
  {
   "cell_type": "markdown",
   "metadata": {},
   "source": [
    "STUCK? Editorial Section - Answers to all questions in a particular quiz. (Contest Material > Tutorial)"
   ]
  },
  {
   "cell_type": "markdown",
   "metadata": {},
   "source": [
    "str.count() - number of times \"Element\" appears in string\n",
    "str.find() - \"element\" ka index return\n",
    "isdigit - if string can be represented as a number - ie if all elements = numbers (FALSE FOR DECIMALS)\n",
    "isdecimal - \n",
    "replace - \n",
    "split - breaks string - Split & Make Spliteed Parts as Elements of List\n"
   ]
  },
  {
   "cell_type": "markdown",
   "metadata": {},
   "source": [
    "STRING = "
   ]
  },
  {
   "cell_type": "code",
   "execution_count": 1,
   "metadata": {},
   "outputs": [
    {
     "name": "stdout",
     "output_type": "stream",
     "text": [
      "2\n",
      "4\n",
      "False\n",
      "True\n",
      "['hello']\n",
      "['he', '', 'o wor', 'd']\n"
     ]
    }
   ],
   "source": [
    "s = \"hello\"\n",
    "r = \"hello world\" #String\n",
    "t = \"2022\"\n",
    "\n",
    "print(s.count('l')) \n",
    "print(s.find('o'))\n",
    "print(s.isdigit())\n",
    "print(t.isdigit())\n",
    "print(s.split()) #Gives LIST output - List is identified in square brackets\n",
    "print(r.split('l'))"
   ]
  },
  {
   "cell_type": "code",
   "execution_count": 2,
   "metadata": {},
   "outputs": [
    {
     "name": "stdout",
     "output_type": "stream",
     "text": [
      "aryan\n"
     ]
    }
   ],
   "source": [
    "a = input()\n",
    "print(a)"
   ]
  },
  {
   "cell_type": "code",
   "execution_count": 20,
   "metadata": {},
   "outputs": [
    {
     "name": "stdout",
     "output_type": "stream",
     "text": [
      "<built-in method sort of list object at 0x106904c00>\n"
     ]
    }
   ],
   "source": [
    "l = [0,1,2,3,4,5]\n",
    "L = l.sort\n",
    "print(L)\n"
   ]
  }
 ],
 "metadata": {
  "kernelspec": {
   "display_name": "Python 3.9.6 64-bit",
   "language": "python",
   "name": "python3"
  },
  "language_info": {
   "codemirror_mode": {
    "name": "ipython",
    "version": 3
   },
   "file_extension": ".py",
   "mimetype": "text/x-python",
   "name": "python",
   "nbconvert_exporter": "python",
   "pygments_lexer": "ipython3",
   "version": "3.9.6"
  },
  "orig_nbformat": 4,
  "vscode": {
   "interpreter": {
    "hash": "31f2aee4e71d21fbe5cf8b01ff0e069b9275f58929596ceb00d14d90e3e16cd6"
   }
  }
 },
 "nbformat": 4,
 "nbformat_minor": 2
}
