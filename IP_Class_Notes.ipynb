{
 "cells": [
  {
   "cell_type": "code",
   "execution_count": 1,
   "metadata": {},
   "outputs": [
    {
     "name": "stdout",
     "output_type": "stream",
     "text": [
      "10 10\n"
     ]
    }
   ],
   "source": [
    "#Example 1, Not so ~ Exchange Data.\n",
    "x = 5\n",
    "y = 10\n",
    "\n",
    "x = y # y = 10, x = y = 10\n",
    "y = x # New x = 10\n",
    "print(x,y)"
   ]
  },
  {
   "cell_type": "code",
   "execution_count": 2,
   "metadata": {},
   "outputs": [
    {
     "ename": "ValueError",
     "evalue": "invalid literal for int() with base 10: ''",
     "output_type": "error",
     "traceback": [
      "\u001b[0;31m---------------------------------------------------------------------------\u001b[0m",
      "\u001b[0;31mValueError\u001b[0m                                Traceback (most recent call last)",
      "Cell \u001b[0;32mIn [2], line 7\u001b[0m\n\u001b[1;32m      3\u001b[0m \u001b[39m#Python treats all input as text (& Not Numbers)\u001b[39;00m\n\u001b[1;32m      5\u001b[0m y \u001b[39m=\u001b[39m \u001b[39minput\u001b[39m(\u001b[39m\"\u001b[39m\u001b[39mPlease Enter y: \u001b[39m\u001b[39m\"\u001b[39m) \u001b[39m#Addtn. String To Justify The Required INPUT.\u001b[39;00m\n\u001b[0;32m----> 7\u001b[0m z \u001b[39m=\u001b[39m \u001b[39mint\u001b[39;49m(\u001b[39minput\u001b[39;49m()) \u001b[39m#Convert input to INTEGER \u001b[39;00m\n\u001b[1;32m      8\u001b[0m w \u001b[39m=\u001b[39m \u001b[39mfloat\u001b[39m(\u001b[39minput\u001b[39m()) \u001b[39m#Convert input to FLOAT\u001b[39;00m\n\u001b[1;32m      9\u001b[0m r \u001b[39m=\u001b[39m \u001b[39mbool\u001b[39m(\u001b[39minput\u001b[39m()) \u001b[39m#Any Input is treated as TRUE, NO input is treated as FALSE.\u001b[39;00m\n",
      "\u001b[0;31mValueError\u001b[0m: invalid literal for int() with base 10: ''"
     ]
    }
   ],
   "source": [
    "#INPUT STATEMENTS\n",
    "x = input() #Input Statement, Interpretor asks for input, reads it, saves it in memory named x\n",
    "#Python treats all input as text (& Not Numbers)\n",
    "\n",
    "y = input(\"Please Enter y: \") #Addtn. String To Justify The Required INPUT.\n",
    "\n",
    "z = int(input()) #Convert input to INTEGER \n",
    "w = float(input()) #Convert input to FLOAT\n",
    "r = bool(input()) #Any Input is treated as TRUE, NO input is treated as FALSE.\n",
    "\n",
    "print(x,y,z,w,r)\n"
   ]
  },
  {
   "cell_type": "code",
   "execution_count": 1,
   "metadata": {},
   "outputs": [
    {
     "name": "stdout",
     "output_type": "stream",
     "text": [
      "23.680602916761387\n"
     ]
    }
   ],
   "source": [
    "#Example 2, BMI Calculator\n",
    "ht_inch = int(input(\"Height: \")) #Height In INCHES, String converted to Integer.\n",
    "wt = int(input(\"Wt:\"))\n",
    "\n",
    "ht_m = ht_inch*2.54/100 #Convert height in meters\n",
    "ht_sq = ht_m*ht_m #Computing the square of height\n",
    "\n",
    "bmi = wt/ht_sq #Calculating BMI\n",
    "print (bmi)"
   ]
  },
  {
   "cell_type": "code",
   "execution_count": 1,
   "metadata": {},
   "outputs": [
    {
     "name": "stdout",
     "output_type": "stream",
     "text": [
      "False\n",
      "True\n"
     ]
    }
   ],
   "source": [
    "#Never Check FLOATING POINT Nos. for equality.\n",
    "print(1.1 + 2.2 == 3.3)\n",
    "print(1.1 + 3.3 == 4.4)"
   ]
  },
  {
   "cell_type": "code",
   "execution_count": 22,
   "metadata": {},
   "outputs": [
    {
     "name": "stdout",
     "output_type": "stream",
     "text": [
      "False\n",
      "True\n",
      "True True\n",
      "3\n",
      "<class 'bool'>\n",
      "True\n"
     ]
    }
   ],
   "source": [
    "#Boolean\n",
    "print(not(5>2))\n",
    "print((8>0) and (9>1))\n",
    "\n",
    "a,b,c = 5,10,15\n",
    "x = (a<b) and (a<c)\n",
    "y = a>10 or b>=10 or c<10\n",
    "print(x,y)\n",
    "\n",
    "print(int(3.9))\n",
    "x = True #Class == Data Type\n",
    "print(type(x))\n",
    "print(-5-5*False<19//6**True)"
   ]
  },
  {
   "cell_type": "code",
   "execution_count": null,
   "metadata": {},
   "outputs": [],
   "source": []
  },
  {
   "cell_type": "markdown",
   "metadata": {},
   "source": [
    "# ITERATION. \n"
   ]
  },
  {
   "cell_type": "markdown",
   "metadata": {},
   "source": [
    "FOR & While LOOP - Repeadtedly execute some statements till some conditions are TRUE.\n"
   ]
  },
  {
   "cell_type": "code",
   "execution_count": null,
   "metadata": {},
   "outputs": [],
   "source": [
    "s1 = 0\n",
    "s2 = 0\n",
    "for i in range(198,1111):\n",
    "    if i%2 == 0:\n",
    "        s1 = s1 +1\n",
    "    else:\n",
    "        s2 = s2 + 1\n",
    "print(\"Even Nos = \" + str(s1) + \" Odd Nos = \" + str(s2))"
   ]
  },
  {
   "cell_type": "code",
   "execution_count": null,
   "metadata": {},
   "outputs": [],
   "source": [
    "num = int(input())\n",
    "fact = 1\n",
    "i = 1\n",
    "for i in range(1,num+1):\n",
    "    fact = fact*i\n",
    "print(fact)"
   ]
  },
  {
   "cell_type": "code",
   "execution_count": null,
   "metadata": {},
   "outputs": [],
   "source": [
    "flag = True\n",
    "pi = 0\n",
    "for i in range(1,20,2):\n",
    "    if flag:\n",
    "        pi = pi + 1 / i\n",
    "    else:\n",
    "        pi = pi - 1 / i\n",
    "    flag = not flag\n",
    "print(pi*4)"
   ]
  },
  {
   "cell_type": "code",
   "execution_count": null,
   "metadata": {},
   "outputs": [],
   "source": [
    "d=12345\n",
    "tot=0\n",
    "n=0 \n",
    "while d!=0:\n",
    "    tot = tot +d%10\n",
    "    d=d//10\n",
    "    n=n+1\n",
    "\n",
    "print(tot)"
   ]
  },
  {
   "cell_type": "code",
   "execution_count": null,
   "metadata": {},
   "outputs": [],
   "source": [
    "for i in range(6):\n",
    "    for j in range (i):\n",
    "        print(\"x\", end = \"D \")\n",
    "    print()"
   ]
  },
  {
   "cell_type": "code",
   "execution_count": null,
   "metadata": {},
   "outputs": [],
   "source": [
    "n = 10\n",
    "num = 0\n",
    "for i in range(n):\n",
    "    for j in range(i):\n",
    "        num = num + 1\n",
    "print(num)"
   ]
  }
 ],
 "metadata": {
  "kernelspec": {
   "display_name": "Python 3.9.6 64-bit",
   "language": "python",
   "name": "python3"
  },
  "language_info": {
   "codemirror_mode": {
    "name": "ipython",
    "version": 3
   },
   "file_extension": ".py",
   "mimetype": "text/x-python",
   "name": "python",
   "nbconvert_exporter": "python",
   "pygments_lexer": "ipython3",
   "version": "3.9.6 (default, Oct 18 2022, 12:41:40) \n[Clang 14.0.0 (clang-1400.0.29.202)]"
  },
  "orig_nbformat": 4,
  "vscode": {
   "interpreter": {
    "hash": "31f2aee4e71d21fbe5cf8b01ff0e069b9275f58929596ceb00d14d90e3e16cd6"
   }
  }
 },
 "nbformat": 4,
 "nbformat_minor": 2
}
