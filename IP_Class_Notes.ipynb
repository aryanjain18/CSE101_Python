{
 "cells": [
  {
   "attachments": {},
   "cell_type": "markdown",
   "metadata": {},
   "source": [
    "# 28.12.2022"
   ]
  },
  {
   "attachments": {},
   "cell_type": "markdown",
   "metadata": {},
   "source": [
    "# Tuples - ()"
   ]
  },
  {
   "attachments": {},
   "cell_type": "markdown",
   "metadata": {},
   "source": [
    "Store Multiple values (~ Lists), IMMUTABLE - can NOT change them (~ Strings), Elements may be Mutable"
   ]
  },
  {
   "cell_type": "code",
   "execution_count": null,
   "metadata": {},
   "outputs": [],
   "source": [
    "colors = (\"Red\",\"Yellow\",\"Orange\")\n",
    "print(colors[1])\n",
    "print(colors[1:2])\n",
    "print(colors[-1])\n",
    "print(colors[1:])"
   ]
  },
  {
   "attachments": {},
   "cell_type": "markdown",
   "metadata": {},
   "source": [
    "Single Item Tupple - NOT like (74), But YES like (74,) - Because (74) ~ is same as we pass a argumnet 74 & NOT considered as a SET"
   ]
  },
  {
   "cell_type": "code",
   "execution_count": null,
   "metadata": {},
   "outputs": [],
   "source": [
    "colors = ([1,2],\"Yellow\",\"Orange\")\n",
    "colors[0].append(3)\n",
    "print(colors[0])"
   ]
  },
  {
   "attachments": {},
   "cell_type": "markdown",
   "metadata": {},
   "source": [
    "# Dictionary"
   ]
  },
  {
   "attachments": {},
   "cell_type": "markdown",
   "metadata": {},
   "source": [
    "Key must be unique (~ Index number was unique)"
   ]
  },
  {
   "attachments": {},
   "cell_type": "markdown",
   "metadata": {},
   "source": [
    "Dictionary is mutable - Similar to a list & NOT a tupple, BUT its KEYS are immutable!"
   ]
  },
  {
   "attachments": {},
   "cell_type": "markdown",
   "metadata": {},
   "source": [
    "We will now access items using its key, insted of index numbers! - {Key: Element,}"
   ]
  },
  {
   "cell_type": "code",
   "execution_count": null,
   "metadata": {},
   "outputs": [],
   "source": [
    "car = {\"make\": \"Honda\",\"year\": 2021,\"model\": \"City\",\"cc\": 1500,\"price\":19.5}\n",
    "print(car[\"make\"])\n",
    "print(car[\"make\"])\n",
    "print(car.get(\"fuel\"))\n",
    "print(car.get(\"fuel\",\"This Second Argument Will Be Printed\")) #Doubt\n",
    "print(car.get(\"model\"))"
   ]
  }
 ],
 "metadata": {
  "kernelspec": {
   "display_name": "Python 3.9.6 64-bit",
   "language": "python",
   "name": "python3"
  },
  "language_info": {
   "codemirror_mode": {
    "name": "ipython",
    "version": 3
   },
   "file_extension": ".py",
   "mimetype": "text/x-python",
   "name": "python",
   "nbconvert_exporter": "python",
   "pygments_lexer": "ipython3",
   "version": "3.9.6"
  },
  "orig_nbformat": 4,
  "vscode": {
   "interpreter": {
    "hash": "31f2aee4e71d21fbe5cf8b01ff0e069b9275f58929596ceb00d14d90e3e16cd6"
   }
  }
 },
 "nbformat": 4,
 "nbformat_minor": 2
}
