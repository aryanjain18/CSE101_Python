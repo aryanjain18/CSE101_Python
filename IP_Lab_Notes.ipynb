{
 "cells": [
  {
   "cell_type": "code",
   "execution_count": null,
   "metadata": {},
   "outputs": [],
   "source": [
    "#Defining A Function\n",
    "def func1(): #Defining Function func1 (Only Indented Part)\n",
    "    print(\"Particular String\") #This Is What Function func1 does\n",
    "    print(\"Hi This Is End Of Function 1\")\n",
    "func1()\n",
    "\n",
    "def func2(str): #Str = Argument For The Function 2\n",
    "    print(str)\n",
    "func2(\"Aryan\")\n",
    "\n",
    "#Defining Function For Area Of Circle\n",
    "import math\n",
    "def area_of_circle(radius): # No Spaces In Name Of Function \n",
    "    area = math.pi * radius * radius\n",
    "    return area #Area function khatam hogya. \n",
    "area_5 = area_of_circle(5)\n",
    "print (area_5)\n",
    "\n",
    "#None\n",
    "#whatever you define inside function can not be used in main.    "
   ]
  },
  {
   "cell_type": "code",
   "execution_count": 7,
   "metadata": {},
   "outputs": [
    {
     "name": "stdout",
     "output_type": "stream",
     "text": [
      "Happy Birthday, Dear Aryan Jain  On Turning 19"
     ]
    }
   ],
   "source": [
    "#End line in PRINT\n",
    "a = \"Happy Birthday, Dear\"\n",
    "b = \"Aryan Jain\"\n",
    "c = \"On Turning\"\n",
    "d = \"19\"\n",
    "print(a,b,\" \", end='')\n",
    "print(c,d, end='')\n"
   ]
  },
  {
   "cell_type": "code",
   "execution_count": 9,
   "metadata": {},
   "outputs": [],
   "source": [
    "#Taking INPUTS?\n",
    "a = input() #Input - Defalut data type : STRING.\n",
    "b = input(\"Pls enter something?\") #Brackets ke andar text To Tell User Description Of INPUT.\n",
    "c = int(input()) #Taking INTEGER Inputs, String ko digit by digit integer bna deta hai.\n",
    "print(a,b,c)"
   ]
  },
  {
   "cell_type": "code",
   "execution_count": 12,
   "metadata": {},
   "outputs": [
    {
     "name": "stdout",
     "output_type": "stream",
     "text": [
      "True\n",
      "True\n",
      "True\n",
      "False\n",
      "False\n",
      "False\n",
      "True\n",
      "False\n"
     ]
    }
   ],
   "source": [
    "#Boolean of 0, None, 'Any Blank String Value' == 0; Otherwise Boolean = 1\n",
    "print(bool(1))\n",
    "print(bool(2))\n",
    "print(bool(-1))\n",
    "print(bool(0))\n",
    "print(bool())\n",
    "print(bool(None)) \n",
    "print(bool(\"Aryan Jain\"))\n",
    "print(bool(\"\"))"
   ]
  },
  {
   "cell_type": "code",
   "execution_count": 2,
   "metadata": {},
   "outputs": [
    {
     "name": "stdout",
     "output_type": "stream",
     "text": [
      "1242.2968749999998\n"
     ]
    }
   ],
   "source": [
    "#EXAMPLE : COMPOUND INTEGER CALCULATOR?\n",
    "#CI = P(1+r/100)^T\n",
    "P = float(input(\"Enter Principal Amount?\"))\n",
    "R = float(input(\"Enter Rate Of Interest?\"))\n",
    "T = float(input(\"Enter Tenure in Years?\"))\n",
    "I = P*((1+(R/100))**T)\n",
    "print(\"Total Amount Payable = \" + str(I))\n"
   ]
  },
  {
   "cell_type": "code",
   "execution_count": 13,
   "metadata": {},
   "outputs": [
    {
     "name": "stdout",
     "output_type": "stream",
     "text": [
      "Complex Number 1 =  4+i3\n",
      "Complex Number 2 =  2+i1\n",
      "CN 1 + CN 2 =  6+i4\n",
      "CN 1 - CN 2 =  2+i2\n",
      "CN 1 * CN 2 =  5 + i10\n",
      "CN 1 / CN 2 =  2.2 + i0.4\n",
      "Complex number 1 formed:  (4+3j)\n",
      "Complex number 2 formed:  (2+1j)\n",
      "CN1 + CN2 = (6+4j)\n",
      "CN1 - CN2 = (2+2j)\n",
      "CN1 * CN2 = (5+10j)\n",
      "CN1 / CN2 = (2.2+0.4j)\n"
     ]
    }
   ],
   "source": [
    "#Examples : Complex Number Operations?\n",
    "a1 = int(input(\"Enter Real Part Of Complex Number 1 :\"))\n",
    "b1 = int(input(\"Enter Imaginary Part Of Complex Number 1 :\"))\n",
    "a2 = int(input(\"Enter Real Part Of Complex Number 2 :\"))\n",
    "b2 = int(input(\"Enter Imaginary Part Of Complex Number 2 :\"))\n",
    "print(\"Complex Number 1 =  \" + str(a1) + \"+i\" + str(b1))\n",
    "print(\"Complex Number 2 =  \" + str(a2) + \"+i\" + str(b2))\n",
    "print(\"CN 1 + CN 2 =  \" + str(a1+a2) + \"+i\" + str(b1+b2))\n",
    "print(\"CN 1 - CN 2 =  \" + str(a1-a2) + \"+i\" + str(b1-b2))\n",
    "print(\"CN 1 * CN 2 =  \" + str((a1*a2) - (b1*b2)) + \" + i\" + str((a1*b2)+(a2*b1)))\n",
    "print(\"CN 1 / CN 2 =  \" + str(((a1*a2)+(b1*b2))/(a2**2+b2**2)) + \" + i\" + str(((b1*a2)-(a1*b2))/(a2**2+b2**2)))\n",
    "\n",
    "#Alternatively:\n",
    "real1 = int(input(\"Enter Real Part Of Complex Number 1 :\"))\n",
    "img1 = int(input(\"Enter Imaginary Part Of Complex Number 1 :\"))\n",
    "complex_number1 = complex(real1, img1)\n",
    "print(\"Complex number 1 formed: \", complex_number1)\n",
    "real2 = int(input(\"Enter Real Part Of Complex Number 2 :\"))\n",
    "img2 = int(input(\"Enter Imaginary Part Of Complex Number 2 :\"))\n",
    "complex_number2 = complex(real2, img2)\n",
    "print(\"Complex number 2 formed: \", complex_number2)\n",
    "print(\"CN1 + CN2 = \" + str(complex_number1 + complex_number2))\n",
    "print(\"CN1 - CN2 = \" + str(complex_number1 - complex_number2))\n",
    "print(\"CN1 * CN2 = \" + str(complex_number1 * complex_number2))\n",
    "print(\"CN1 / CN2 = \" + str(complex_number1 / complex_number2))"
   ]
  },
  {
   "cell_type": "code",
   "execution_count": null,
   "metadata": {},
   "outputs": [],
   "source": [
    "a = input()\n",
    "b = input()\n"
   ]
  },
  {
   "cell_type": "code",
   "execution_count": 8,
   "metadata": {},
   "outputs": [
    {
     "name": "stdout",
     "output_type": "stream",
     "text": [
      "True\n",
      "True\n"
     ]
    }
   ],
   "source": [
    "#Strings compare in dictionary oreder\n",
    "print(\"a\" < \"b\")\n",
    "print(\"A\" < \"a\") #All Capital Letters First.\n",
    "#Asky-Order."
   ]
  },
  {
   "cell_type": "code",
   "execution_count": 11,
   "metadata": {},
   "outputs": [
    {
     "name": "stdout",
     "output_type": "stream",
     "text": [
      "0\n",
      "0\n",
      "False\n",
      "True\n"
     ]
    }
   ],
   "source": [
    "# Modulus % gives us the reminder\n",
    "print(0%2) #Reminder when 0 divided by 2\n",
    "print(8%1) #Reminder when any integer divided by 1 = 0 always\n",
    "#Check ODD or EVEN\n",
    "a = int(input())\n",
    "print(bool(a%2)) \n",
    "print(not(bool(a%2)))"
   ]
  }
 ],
 "metadata": {
  "kernelspec": {
   "display_name": "Python 3.9.6 64-bit",
   "language": "python",
   "name": "python3"
  },
  "language_info": {
   "codemirror_mode": {
    "name": "ipython",
    "version": 3
   },
   "file_extension": ".py",
   "mimetype": "text/x-python",
   "name": "python",
   "nbconvert_exporter": "python",
   "pygments_lexer": "ipython3",
   "version": "3.9.6 (default, Oct 18 2022, 12:41:40) \n[Clang 14.0.0 (clang-1400.0.29.202)]"
  },
  "orig_nbformat": 4,
  "vscode": {
   "interpreter": {
    "hash": "31f2aee4e71d21fbe5cf8b01ff0e069b9275f58929596ceb00d14d90e3e16cd6"
   }
  }
 },
 "nbformat": 4,
 "nbformat_minor": 2
}
