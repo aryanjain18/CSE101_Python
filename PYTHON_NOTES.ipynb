{
 "cells": [
  {
   "cell_type": "markdown",
   "metadata": {},
   "source": [
    "# Hello World"
   ]
  },
  {
   "cell_type": "markdown",
   "metadata": {},
   "source": [
    "Print = Function. Prints Whatever Is Inside Brackets"
   ]
  },
  {
   "cell_type": "code",
   "execution_count": 3,
   "metadata": {},
   "outputs": [
    {
     "name": "stdout",
     "output_type": "stream",
     "text": [
      "Hello World\n",
      "2\n"
     ]
    }
   ],
   "source": [
    "#Next Commmand Prints String Hello World\n",
    "print(\"Hello World\") \n",
    "\n",
    "#Next Command Prints Number 2\n",
    "print(2)\n"
   ]
  },
  {
   "cell_type": "markdown",
   "metadata": {},
   "source": [
    "# Variables"
   ]
  },
  {
   "cell_type": "code",
   "execution_count": 4,
   "metadata": {},
   "outputs": [
    {
     "name": "stdout",
     "output_type": "stream",
     "text": [
      "2\n",
      "3.14\n",
      "2 3.14 Aryan Jain b\n",
      "<class 'int'>\n",
      "<class 'float'>\n",
      "<class 'str'>\n"
     ]
    }
   ],
   "source": [
    "#ASSIGN VARIABLES.\n",
    "\n",
    "x = 2\n",
    "name = \"Aryan Jain\"\n",
    "z = 3.14\n",
    "char = 'b'\n",
    "print(x)\n",
    "print(z)\n",
    "print(x,z,name,char)\n",
    "\n",
    "#Getting Data Type Below.\n",
    "print(type(x))\n",
    "y = 2.0\n",
    "print(type(y))\n",
    "print(type(char))"
   ]
  },
  {
   "cell_type": "code",
   "execution_count": 5,
   "metadata": {},
   "outputs": [
    {
     "name": "stdout",
     "output_type": "stream",
     "text": [
      "2\n",
      "2\n",
      "<class 'float'>\n",
      "<class 'str'>\n"
     ]
    }
   ],
   "source": [
    "#CONVERT VARIABLES.\n",
    "\n",
    "w = 2.2\n",
    "x = 2.7\n",
    "print(int(x))\n",
    "print(int(w))\n",
    "y = str(x)\n",
    "print(type(x))\n",
    "print(type(y))"
   ]
  },
  {
   "cell_type": "markdown",
   "metadata": {},
   "source": [
    "# Number Operators"
   ]
  },
  {
   "cell_type": "code",
   "execution_count": 6,
   "metadata": {},
   "outputs": [
    {
     "name": "stdout",
     "output_type": "stream",
     "text": [
      "5 1 6 1.5 1 1 9\n"
     ]
    }
   ],
   "source": [
    "x = 3\n",
    "y = 2\n",
    "\n",
    "#Addition\n",
    "a = x + y\n",
    "#Subtraction\n",
    "s = x - y\n",
    "#Multiplication\n",
    "m = x * y\n",
    "#Division\n",
    "d = x / y\n",
    "#Floor Division - Quotient\n",
    "q = x // y\n",
    "#Reminder - Modulo\n",
    "r = x % y\n",
    "#Exponentiation\n",
    "e = x ** y \n",
    "\n",
    "print(a,s,m,d,q,r,e)"
   ]
  },
  {
   "cell_type": "code",
   "execution_count": 7,
   "metadata": {},
   "outputs": [
    {
     "name": "stdout",
     "output_type": "stream",
     "text": [
      "False\n",
      "True\n",
      "False\n",
      "True\n",
      "False\n",
      "True\n",
      "True\n"
     ]
    }
   ],
   "source": [
    "#COMPARISION OPERATORS.\n",
    "\n",
    "x = 2\n",
    "y = 3\n",
    "print(x==y) #Equal To\n",
    "print(x!=y) #Not Equal To\n",
    "print(x>y) #GreaterThan\n",
    "print(x<y) #LessThan \n",
    "print(x>=y) #GreaterThanEqualTo\n",
    "print(x<=y) #LessThanEqualTo\n",
    "print(x <= y-1) "
   ]
  },
  {
   "cell_type": "code",
   "execution_count": 8,
   "metadata": {},
   "outputs": [
    {
     "name": "stdout",
     "output_type": "stream",
     "text": [
      "2\n",
      "4\n",
      "6\n",
      "3\n",
      "9\n",
      "27\n",
      "9.0\n",
      "3.0\n",
      "27.0\n",
      "6.0\n"
     ]
    }
   ],
   "source": [
    "#ASSIGNMENT OPERATORS\n",
    "\n",
    "x = 2\n",
    "print(x)\n",
    "x = x + 2\n",
    "print(x)\n",
    "x+=2\n",
    "print(x)\n",
    "x-=3 #Same As x = x-3\n",
    "print(x)\n",
    "x = x*3\n",
    "print(x)\n",
    "x*=3\n",
    "print(x)\n",
    "x = x/3\n",
    "print(x)\n",
    "x/=3\n",
    "print(x)\n",
    "x**=3 #Same As x = x ** 3\n",
    "print(x)\n",
    "x//=4 #Same As x = x // 4\n",
    "print(x)"
   ]
  },
  {
   "cell_type": "markdown",
   "metadata": {},
   "source": [
    "EXAMPLES"
   ]
  },
  {
   "cell_type": "code",
   "execution_count": 9,
   "metadata": {},
   "outputs": [
    {
     "name": "stdout",
     "output_type": "stream",
     "text": [
      "6.0 21.0 16.0\n"
     ]
    }
   ],
   "source": [
    "#Example 1.\n",
    "\n",
    "#BDMAS Test\n",
    "a = 24/2-6\n",
    "b = 24-6/2\n",
    "c = (3+1)*(4+4)/(1+1)\n",
    "print(a,b,c)"
   ]
  },
  {
   "cell_type": "code",
   "execution_count": 10,
   "metadata": {},
   "outputs": [
    {
     "name": "stdout",
     "output_type": "stream",
     "text": [
      "24\n"
     ]
    }
   ],
   "source": [
    "#Example 2. \n",
    "\n",
    "#Find number of divisiors of 360?\n",
    "#Ans. Prime Factorisation Of 360 = 2*2*2*3*3*5\n",
    "#360 = 2^3 * 3^2 * 5^1\n",
    "n = (3+1)*(2+1)*(1+1)\n",
    "print(n)"
   ]
  },
  {
   "cell_type": "code",
   "execution_count": 11,
   "metadata": {},
   "outputs": [
    {
     "name": "stdout",
     "output_type": "stream",
     "text": [
      "e^pi > pi^e ?  True\n",
      "23.140692632779263 22.45915771836104\n",
      "e > pi ?  False\n"
     ]
    }
   ],
   "source": [
    "#Example 3. \n",
    "\n",
    "# Find e^pi v/s pi^e?\n",
    "import math\n",
    "from re import X\n",
    "t = math.e ** math.pi\n",
    "p = math.pi ** math.e\n",
    "print(\"e^pi > pi^e ? \", t > p)\n",
    "print(t,p)\n",
    "print(\"e > pi ? \", math.e > math.pi)"
   ]
  },
  {
   "cell_type": "code",
   "execution_count": 12,
   "metadata": {},
   "outputs": [
    {
     "name": "stdout",
     "output_type": "stream",
     "text": [
      "2 3\n",
      "3 2\n",
      "2 3\n",
      "3 2\n",
      "2 3\n",
      "3 2\n"
     ]
    }
   ],
   "source": [
    "#Example 4. \n",
    "\n",
    "#1. Exchange values inside variables using a dummy variable.\n",
    "x = 2\n",
    "y = 3\n",
    "print (x,y)\n",
    "temp = x\n",
    "x = y\n",
    "y = temp\n",
    "print (x,y)\n",
    "#2. Exchange values inside variables without using a dummy variable.\n",
    "x = 2\n",
    "y = 3\n",
    "print (x,y)\n",
    "x = x + y\n",
    "y = x - y\n",
    "x = x - y\n",
    "print (x,y)\n",
    "#3. Exchange values inside variables without using a dummy variable. Using LISTS.\n",
    "x = 2\n",
    "y = 3\n",
    "print (x,y)\n",
    "x,y = y,x\n",
    "print (x,y)"
   ]
  },
  {
   "cell_type": "markdown",
   "metadata": {},
   "source": [
    "# String Operators."
   ]
  },
  {
   "cell_type": "code",
   "execution_count": 13,
   "metadata": {},
   "outputs": [
    {
     "name": "stdout",
     "output_type": "stream",
     "text": [
      "AryanJain\n",
      "Aryan Jain\n"
     ]
    }
   ],
   "source": [
    "#Concatenation +\n",
    "\n",
    "x = \"Aryan\"\n",
    "y = \"Jain\"\n",
    "print(x+y)\n",
    "print(x+\" \"+y)"
   ]
  },
  {
   "cell_type": "code",
   "execution_count": 14,
   "metadata": {},
   "outputs": [
    {
     "name": "stdout",
     "output_type": "stream",
     "text": [
      "RiyuRiyuRiyu\n"
     ]
    }
   ],
   "source": [
    "#Repetition *\n",
    "\n",
    "x = \"Riyu\"\n",
    "print(x*3)"
   ]
  },
  {
   "cell_type": "code",
   "execution_count": 15,
   "metadata": {},
   "outputs": [
    {
     "name": "stdout",
     "output_type": "stream",
     "text": [
      "n\n",
      "nan\n",
      "ban\n",
      "nana\n"
     ]
    }
   ],
   "source": [
    "#Slicing / Range Slicing [LL:UL]\n",
    "\n",
    "x = \"banana\"\n",
    "z = x[2] #Index{0,1,2,3...}; Index 2 = 3rd Character\n",
    "print(z)\n",
    "z = x[2:5] #Print from 3rd To 5th Posn.\n",
    "print(z)\n",
    "z = x[:3] #Print from 1st To 4th Posn.\n",
    "print(z)\n",
    "z = x[2:] #Print from 3rd To Last Posn.\n",
    "print(z)"
   ]
  },
  {
   "cell_type": "code",
   "execution_count": 16,
   "metadata": {},
   "outputs": [
    {
     "name": "stdout",
     "output_type": "stream",
     "text": [
      "True\n",
      "False\n",
      "False\n",
      "True\n"
     ]
    }
   ],
   "source": [
    "# in\n",
    "\n",
    "name = \"Aryan Jain\"\n",
    "print('a' in name) # Yeh letter isme hai ya nhi - TRUE/FALSE\n",
    "print('q' in name)\n",
    "print('j' in name) # Case Sensitive\n",
    "print('J' in name)\n"
   ]
  },
  {
   "cell_type": "code",
   "execution_count": 17,
   "metadata": {},
   "outputs": [
    {
     "name": "stdout",
     "output_type": "stream",
     "text": [
      "2\n",
      "3\n"
     ]
    }
   ],
   "source": [
    "#index - yeh wala letter kha pe aarha hai\n",
    "\n",
    "name = \"Aryan Jain\"\n",
    "y = name.find('y') #Index = {0,1,2,3...}; Index 2 = 3rd Character\n",
    "print(y)\n",
    "print(name.find (\"a\"))"
   ]
  },
  {
   "cell_type": "markdown",
   "metadata": {},
   "source": [
    "NOTE: For python \" \"  ==  ' '"
   ]
  },
  {
   "cell_type": "markdown",
   "metadata": {},
   "source": [
    "# Functions"
   ]
  },
  {
   "cell_type": "markdown",
   "metadata": {},
   "source": [
    "FUNCTIONS WITHOUT ARGUMNET"
   ]
  },
  {
   "cell_type": "code",
   "execution_count": null,
   "metadata": {},
   "outputs": [],
   "source": [
    "#Defining a function that can be called to mark completion of a task.\n",
    "def task_finished(): \n",
    "    print(\"You have successfully finished the task!\")\n",
    "\n",
    "task_finished()"
   ]
  },
  {
   "cell_type": "code",
   "execution_count": null,
   "metadata": {},
   "outputs": [],
   "source": [
    "#Defining a function that returns an output = 0\n",
    "def returnzero():\n",
    "    return 0\n",
    "\n",
    "x = returnzero()\n",
    "print(x)"
   ]
  },
  {
   "cell_type": "markdown",
   "metadata": {},
   "source": [
    "FUNCTIONS WITH ARGUMNETS"
   ]
  },
  {
   "cell_type": "code",
   "execution_count": null,
   "metadata": {},
   "outputs": [],
   "source": [
    "def cubing(x):\n",
    "    return x**2\n",
    "\n",
    "print(cubing(11))"
   ]
  },
  {
   "cell_type": "code",
   "execution_count": null,
   "metadata": {},
   "outputs": [],
   "source": [
    "#Function with TWO arguments\n",
    "\n",
    "def x_plus_y_square(x,y):\n",
    "    return(x+y) ** 2\n",
    "\n",
    "print(x_plus_y_square(3,5))"
   ]
  },
  {
   "cell_type": "markdown",
   "metadata": {},
   "source": [
    "Examples"
   ]
  },
  {
   "cell_type": "code",
   "execution_count": null,
   "metadata": {},
   "outputs": [],
   "source": [
    "#EXAMPLE 1\n",
    "\n",
    "#Function to convert temprature fro celcius to farenheit\n",
    "def temp_farenh(temp):\n",
    "    return (temp * (9/5)) + 32 #(temp °C × 9/5) + 32 = temp °F\n",
    "\n",
    "print(temp_farenh(0))\n",
    "print(temp_farenh(37))\n",
    "print(temp_farenh(-40)) #At -40 degree celcius = farenheit"
   ]
  },
  {
   "cell_type": "code",
   "execution_count": null,
   "metadata": {},
   "outputs": [],
   "source": [
    "#EXAMPLE 2\n",
    "\n",
    "#Function to find GM of 3 Nos.\n",
    "def gm(x,y,z):\n",
    "    g = (x*y*z)**(1/3)\n",
    "    return g\n",
    "x = gm (2,4,8)\n",
    "print(x)\n",
    "\n",
    "import math\n",
    "y = round(x) #Rounding Off/Estimating Value.\n",
    "print(y)\n",
    "a = input()\n",
    "print(a)"
   ]
  },
  {
   "cell_type": "code",
   "execution_count": null,
   "metadata": {},
   "outputs": [],
   "source": [
    "#Default Argument & Keyword Argument.\n",
    "def vol_cube (length = 1, breadth = 1,height = 1): #DEFAULT ARGUMNENT = Default value of parameter, Taken if NOT while calling the function.\n",
    "    return length*breadth*height\n",
    "\n",
    "print(vol_cube(1,2,3))\n",
    "print(vol_cube())\n",
    "print(vol_cube(2,3))\n",
    "print(vol_cube(height=10,length=5)) \n",
    "#KEYWORD ARGUMENT = Uss particular parameter ko value assign krne ke liye, Function call karte huye.\n"
   ]
  }
 ],
 "metadata": {
  "kernelspec": {
   "display_name": "Python 3.9.6 64-bit",
   "language": "python",
   "name": "python3"
  },
  "language_info": {
   "codemirror_mode": {
    "name": "ipython",
    "version": 3
   },
   "file_extension": ".py",
   "mimetype": "text/x-python",
   "name": "python",
   "nbconvert_exporter": "python",
   "pygments_lexer": "ipython3",
   "version": "3.9.6"
  },
  "orig_nbformat": 4,
  "vscode": {
   "interpreter": {
    "hash": "31f2aee4e71d21fbe5cf8b01ff0e069b9275f58929596ceb00d14d90e3e16cd6"
   }
  }
 },
 "nbformat": 4,
 "nbformat_minor": 2
}
