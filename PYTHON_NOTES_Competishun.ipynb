{
 "cells": [
  {
   "cell_type": "markdown",
   "metadata": {},
   "source": [
    "# Hello World"
   ]
  },
  {
   "cell_type": "markdown",
   "metadata": {},
   "source": [
    "Print = Function. Prints Whatever Is Inside Brackets"
   ]
  },
  {
   "cell_type": "code",
   "execution_count": 3,
   "metadata": {},
   "outputs": [
    {
     "name": "stdout",
     "output_type": "stream",
     "text": [
      "Hello World\n",
      "2\n"
     ]
    }
   ],
   "source": [
    "#Next Commmand Prints String Hello World\n",
    "print(\"Hello World\") \n",
    "\n",
    "#Next Command Prints Number 2\n",
    "print(2)\n"
   ]
  },
  {
   "cell_type": "markdown",
   "metadata": {},
   "source": [
    "# Variables"
   ]
  },
  {
   "cell_type": "markdown",
   "metadata": {},
   "source": [
    "ASSIGN VARIABLES."
   ]
  },
  {
   "cell_type": "code",
   "execution_count": 4,
   "metadata": {},
   "outputs": [
    {
     "name": "stdout",
     "output_type": "stream",
     "text": [
      "2\n",
      "3.14\n",
      "2 3.14 Aryan Jain b\n",
      "<class 'int'>\n",
      "<class 'float'>\n",
      "<class 'str'>\n"
     ]
    }
   ],
   "source": [
    "x = 2\n",
    "name = \"Aryan Jain\"\n",
    "z = 3.14\n",
    "char = 'b'\n",
    "print(x)\n",
    "print(z)\n",
    "print(x,z,name,char)\n",
    "\n",
    "#Getting Data Type Below.\n",
    "print(type(x))\n",
    "y = 2.0\n",
    "print(type(y))\n",
    "print(type(char))"
   ]
  },
  {
   "cell_type": "markdown",
   "metadata": {},
   "source": [
    "CONVERT VARIABLES."
   ]
  },
  {
   "cell_type": "code",
   "execution_count": 5,
   "metadata": {},
   "outputs": [
    {
     "name": "stdout",
     "output_type": "stream",
     "text": [
      "2\n",
      "2\n",
      "<class 'float'>\n",
      "<class 'str'>\n"
     ]
    }
   ],
   "source": [
    "w = 2.2\n",
    "x = 2.7\n",
    "print(int(x))\n",
    "print(int(w))\n",
    "y = str(x)\n",
    "print(type(x))\n",
    "print(type(y))"
   ]
  },
  {
   "cell_type": "markdown",
   "metadata": {},
   "source": [
    "# Number Operators"
   ]
  },
  {
   "cell_type": "code",
   "execution_count": 6,
   "metadata": {},
   "outputs": [
    {
     "name": "stdout",
     "output_type": "stream",
     "text": [
      "5 1 6 1.5 1 1 9\n"
     ]
    }
   ],
   "source": [
    "x = 3\n",
    "y = 2\n",
    "\n",
    "#Addition\n",
    "a = x + y\n",
    "#Subtraction\n",
    "s = x - y\n",
    "#Multiplication\n",
    "m = x * y\n",
    "#Division\n",
    "d = x / y\n",
    "#Floor Division - Quotient\n",
    "q = x // y\n",
    "#Reminder - Modulo\n",
    "r = x % y\n",
    "#Exponentiation\n",
    "e = x ** y \n",
    "\n",
    "print(a,s,m,d,q,r,e)"
   ]
  },
  {
   "cell_type": "markdown",
   "metadata": {},
   "source": [
    "COMPARISION OPERATORS."
   ]
  },
  {
   "cell_type": "code",
   "execution_count": 7,
   "metadata": {},
   "outputs": [
    {
     "name": "stdout",
     "output_type": "stream",
     "text": [
      "False\n",
      "True\n",
      "False\n",
      "True\n",
      "False\n",
      "True\n",
      "True\n"
     ]
    }
   ],
   "source": [
    "x = 2\n",
    "y = 3\n",
    "print(x==y) #Equal To\n",
    "print(x!=y) #Not Equal To\n",
    "print(x>y) #GreaterThan\n",
    "print(x<y) #LessThan \n",
    "print(x>=y) #GreaterThanEqualTo\n",
    "print(x<=y) #LessThanEqualTo\n",
    "print(x <= y-1) "
   ]
  },
  {
   "cell_type": "markdown",
   "metadata": {},
   "source": [
    "ASSIGNMENT OPERATORS"
   ]
  },
  {
   "cell_type": "code",
   "execution_count": 8,
   "metadata": {},
   "outputs": [
    {
     "name": "stdout",
     "output_type": "stream",
     "text": [
      "2\n",
      "4\n",
      "6\n",
      "3\n",
      "9\n",
      "27\n",
      "9.0\n",
      "3.0\n",
      "27.0\n",
      "6.0\n"
     ]
    }
   ],
   "source": [
    "x = 2\n",
    "print(x)\n",
    "x = x + 2\n",
    "print(x)\n",
    "x+=2\n",
    "print(x)\n",
    "x-=3 #Same As x = x-3\n",
    "print(x)\n",
    "x = x*3\n",
    "print(x)\n",
    "x*=3\n",
    "print(x)\n",
    "x = x/3\n",
    "print(x)\n",
    "x/=3\n",
    "print(x)\n",
    "x**=3 #Same As x = x ** 3\n",
    "print(x)\n",
    "x//=4 #Same As x = x // 4\n",
    "print(x)"
   ]
  },
  {
   "cell_type": "markdown",
   "metadata": {},
   "source": [
    "EXAMPLES"
   ]
  },
  {
   "cell_type": "code",
   "execution_count": 9,
   "metadata": {},
   "outputs": [
    {
     "name": "stdout",
     "output_type": "stream",
     "text": [
      "6.0 21.0 16.0\n"
     ]
    }
   ],
   "source": [
    "#Example 1.\n",
    "\n",
    "#BDMAS Test\n",
    "a = 24/2-6\n",
    "b = 24-6/2\n",
    "c = (3+1)*(4+4)/(1+1)\n",
    "print(a,b,c)"
   ]
  },
  {
   "cell_type": "code",
   "execution_count": 10,
   "metadata": {},
   "outputs": [
    {
     "name": "stdout",
     "output_type": "stream",
     "text": [
      "24\n"
     ]
    }
   ],
   "source": [
    "#Example 2. \n",
    "\n",
    "#Find number of divisiors of 360?\n",
    "#Ans. Prime Factorisation Of 360 = 2*2*2*3*3*5\n",
    "#360 = 2^3 * 3^2 * 5^1\n",
    "n = (3+1)*(2+1)*(1+1)\n",
    "print(n)"
   ]
  },
  {
   "cell_type": "code",
   "execution_count": 11,
   "metadata": {},
   "outputs": [
    {
     "name": "stdout",
     "output_type": "stream",
     "text": [
      "e^pi > pi^e ?  True\n",
      "23.140692632779263 22.45915771836104\n",
      "e > pi ?  False\n"
     ]
    }
   ],
   "source": [
    "#Example 3. \n",
    "\n",
    "# Find e^pi v/s pi^e?\n",
    "import math\n",
    "from re import X\n",
    "t = math.e ** math.pi\n",
    "p = math.pi ** math.e\n",
    "print(\"e^pi > pi^e ? \", t > p)\n",
    "print(t,p)\n",
    "print(\"e > pi ? \", math.e > math.pi)"
   ]
  },
  {
   "cell_type": "code",
   "execution_count": 12,
   "metadata": {},
   "outputs": [
    {
     "name": "stdout",
     "output_type": "stream",
     "text": [
      "2 3\n",
      "3 2\n",
      "2 3\n",
      "3 2\n",
      "2 3\n",
      "3 2\n"
     ]
    }
   ],
   "source": [
    "#Example 4. \n",
    "\n",
    "#1. Exchange values inside variables using a dummy variable.\n",
    "x = 2\n",
    "y = 3\n",
    "print (x,y)\n",
    "temp = x\n",
    "x = y\n",
    "y = temp\n",
    "print (x,y)\n",
    "#2. Exchange values inside variables without using a dummy variable.\n",
    "x = 2\n",
    "y = 3\n",
    "print (x,y)\n",
    "x = x + y\n",
    "y = x - y\n",
    "x = x - y\n",
    "print (x,y)\n",
    "#3. Exchange values inside variables without using a dummy variable. Using LISTS.\n",
    "x = 2\n",
    "y = 3\n",
    "print (x,y)\n",
    "x,y = y,x\n",
    "print (x,y)"
   ]
  },
  {
   "cell_type": "markdown",
   "metadata": {},
   "source": [
    "# String Operators."
   ]
  },
  {
   "cell_type": "markdown",
   "metadata": {},
   "source": [
    "CONCATENATION"
   ]
  },
  {
   "cell_type": "code",
   "execution_count": 13,
   "metadata": {},
   "outputs": [
    {
     "name": "stdout",
     "output_type": "stream",
     "text": [
      "AryanJain\n",
      "Aryan Jain\n"
     ]
    }
   ],
   "source": [
    "#Concatenation +\n",
    "\n",
    "x = \"Aryan\"\n",
    "y = \"Jain\"\n",
    "print(x+y)\n",
    "print(x+\" \"+y)"
   ]
  },
  {
   "cell_type": "markdown",
   "metadata": {},
   "source": [
    "REPETITION"
   ]
  },
  {
   "cell_type": "code",
   "execution_count": 14,
   "metadata": {},
   "outputs": [
    {
     "name": "stdout",
     "output_type": "stream",
     "text": [
      "RiyuRiyuRiyu\n"
     ]
    }
   ],
   "source": [
    "#Repetition *\n",
    "\n",
    "x = \"Riyu\"\n",
    "print(x*3)"
   ]
  },
  {
   "cell_type": "markdown",
   "metadata": {},
   "source": [
    "RANGE SLICING / SLICING"
   ]
  },
  {
   "cell_type": "code",
   "execution_count": 15,
   "metadata": {},
   "outputs": [
    {
     "name": "stdout",
     "output_type": "stream",
     "text": [
      "n\n",
      "nan\n",
      "ban\n",
      "nana\n"
     ]
    }
   ],
   "source": [
    "#Slicing / Range Slicing [LL:UL]\n",
    "\n",
    "x = \"banana\"\n",
    "z = x[2] #Index{0,1,2,3...}; Index 2 = 3rd Character\n",
    "print(z)\n",
    "z = x[2:5] #Print from 3rd To 5th Posn.\n",
    "print(z)\n",
    "z = x[:3] #Print from 1st To 4th Posn.\n",
    "print(z)\n",
    "z = x[2:] #Print from 3rd To Last Posn.\n",
    "print(z)"
   ]
  },
  {
   "cell_type": "markdown",
   "metadata": {},
   "source": [
    "IN"
   ]
  },
  {
   "cell_type": "code",
   "execution_count": 16,
   "metadata": {},
   "outputs": [
    {
     "name": "stdout",
     "output_type": "stream",
     "text": [
      "True\n",
      "False\n",
      "False\n",
      "True\n"
     ]
    }
   ],
   "source": [
    "# in\n",
    "\n",
    "name = \"Aryan Jain\"\n",
    "print('a' in name) # Yeh letter isme hai ya nhi - TRUE/FALSE\n",
    "print('q' in name)\n",
    "print('j' in name) # Case Sensitive\n",
    "print('J' in name)\n"
   ]
  },
  {
   "cell_type": "markdown",
   "metadata": {},
   "source": [
    "INDEX"
   ]
  },
  {
   "cell_type": "code",
   "execution_count": 3,
   "metadata": {},
   "outputs": [
    {
     "name": "stdout",
     "output_type": "stream",
     "text": [
      "2\n",
      "-1\n"
     ]
    }
   ],
   "source": [
    "#index - yeh wala letter kha pe aarha hai\n",
    "\n",
    "name = \"Aryan Jain\"\n",
    "y = name.find('y') #Index = {0,1,2,3...}; Index 2 = 3rd Character\n",
    "print(y)\n",
    "print(name.find (\"z\"))"
   ]
  },
  {
   "cell_type": "markdown",
   "metadata": {},
   "source": [
    "%s"
   ]
  },
  {
   "cell_type": "code",
   "execution_count": 8,
   "metadata": {},
   "outputs": [
    {
     "name": "stdout",
     "output_type": "stream",
     "text": [
      "Hello, my name is Aryan Jain\n",
      "Hello my name is  Aryan Jain\n"
     ]
    }
   ],
   "source": [
    "#%s - PlaceHolder\n",
    "name = \"Aryan Jain\"\n",
    "\n",
    "print(\"Hello, my name is %s\" %name) #This is a single statement ie printed.\n",
    "print(\"Hello my name is \", name) #This is a list of 2 statements ie printed."
   ]
  },
  {
   "cell_type": "code",
   "execution_count": 7,
   "metadata": {},
   "outputs": [
    {
     "name": "stdout",
     "output_type": "stream",
     "text": [
      "Hello my name is Aryan Jain and my age is 19\n"
     ]
    }
   ],
   "source": [
    "# Use 2 simultaneous variables in %s\n",
    "name = \"Aryan Jain\"\n",
    "age = \"19\"\n",
    "\n",
    "print(\"Hello my name is %s and my age is %s\" %(name,age))"
   ]
  },
  {
   "cell_type": "markdown",
   "metadata": {},
   "source": [
    "NOTE: For python \" \"  ==  ' '"
   ]
  },
  {
   "cell_type": "markdown",
   "metadata": {},
   "source": [
    "# Functions"
   ]
  },
  {
   "cell_type": "markdown",
   "metadata": {},
   "source": [
    "FUNCTIONS WITHOUT ARGUMNET"
   ]
  },
  {
   "cell_type": "code",
   "execution_count": null,
   "metadata": {},
   "outputs": [],
   "source": [
    "#Defining a function that can be called to mark completion of a task.\n",
    "def task_finished(): \n",
    "    print(\"You have successfully finished the task!\")\n",
    "\n",
    "task_finished()"
   ]
  },
  {
   "cell_type": "code",
   "execution_count": 1,
   "metadata": {},
   "outputs": [
    {
     "name": "stdout",
     "output_type": "stream",
     "text": [
      "0\n"
     ]
    }
   ],
   "source": [
    "#Defining a function that returns an output = 0\n",
    "def returnzero():\n",
    "    return 0\n",
    "\n",
    "x = returnzero()\n",
    "print(x)"
   ]
  },
  {
   "cell_type": "markdown",
   "metadata": {},
   "source": [
    "FUNCTIONS WITH ARGUMNETS"
   ]
  },
  {
   "cell_type": "code",
   "execution_count": null,
   "metadata": {},
   "outputs": [],
   "source": [
    "def cubing(x):\n",
    "    return x**2\n",
    "\n",
    "print(cubing(11))"
   ]
  },
  {
   "cell_type": "code",
   "execution_count": 2,
   "metadata": {},
   "outputs": [
    {
     "name": "stdout",
     "output_type": "stream",
     "text": [
      "64\n"
     ]
    }
   ],
   "source": [
    "#Function with TWO arguments\n",
    "\n",
    "def x_plus_y_square(x,y):\n",
    "    return(x+y) ** 2\n",
    "\n",
    "print(x_plus_y_square(3,5))"
   ]
  },
  {
   "cell_type": "markdown",
   "metadata": {},
   "source": [
    "Examples"
   ]
  },
  {
   "cell_type": "code",
   "execution_count": null,
   "metadata": {},
   "outputs": [],
   "source": [
    "#EXAMPLE 1\n",
    "\n",
    "#Function to convert temprature fro celcius to farenheit\n",
    "def temp_farenh(temp):\n",
    "    return (temp * (9/5)) + 32 #(temp °C × 9/5) + 32 = temp °F\n",
    "\n",
    "print(temp_farenh(0))\n",
    "print(temp_farenh(37))\n",
    "print(temp_farenh(-40)) #At -40 degree celcius = farenheit"
   ]
  },
  {
   "cell_type": "code",
   "execution_count": null,
   "metadata": {},
   "outputs": [],
   "source": [
    "#EXAMPLE 2\n",
    "\n",
    "#Function to find GM of 3 Nos.\n",
    "def gm(x,y,z):\n",
    "    g = (x*y*z)**(1/3)\n",
    "    return g\n",
    "x = gm (2,4,8)\n",
    "print(x)\n",
    "\n",
    "import math\n",
    "y = round(x) #Rounding Off/Estimating Value.\n",
    "print(y)\n",
    "a = input()\n",
    "print(a)"
   ]
  },
  {
   "cell_type": "markdown",
   "metadata": {},
   "source": [
    "Default Argument & Keyword Argument."
   ]
  },
  {
   "cell_type": "code",
   "execution_count": 1,
   "metadata": {},
   "outputs": [
    {
     "name": "stdout",
     "output_type": "stream",
     "text": [
      "6\n",
      "1\n",
      "6\n",
      "50\n"
     ]
    }
   ],
   "source": [
    "def vol_cube (length = 1, breadth = 1,height = 1): #DEFAULT ARGUMNENT = Default value of parameter, Taken if NOT defined while calling the function.\n",
    "    return length*breadth*height\n",
    "\n",
    "print(vol_cube(1,2,3))\n",
    "print(vol_cube())\n",
    "print(vol_cube(2,3))\n",
    "print(vol_cube(height=10,length=5)) \n",
    "#KEYWORD ARGUMENT = Uss particular parameter ko value assign krne ke liye, Function call karte huye.\n"
   ]
  },
  {
   "cell_type": "markdown",
   "metadata": {},
   "source": [
    "# Conditional Expressions"
   ]
  },
  {
   "cell_type": "markdown",
   "metadata": {},
   "source": [
    "If - Else Condition"
   ]
  },
  {
   "cell_type": "code",
   "execution_count": 3,
   "metadata": {},
   "outputs": [
    {
     "name": "stdout",
     "output_type": "stream",
     "text": [
      "Zero\n"
     ]
    }
   ],
   "source": [
    "#Check if integer is positive, negative or zero?\n",
    "n = int(input())\n",
    "if n > 0 :\n",
    "    print(\"Positive\")\n",
    "elif n < 0:\n",
    "    print(\"Negative\")\n",
    "else:\n",
    "    print(\"Zero\")"
   ]
  },
  {
   "cell_type": "code",
   "execution_count": 5,
   "metadata": {},
   "outputs": [
    {
     "name": "stdout",
     "output_type": "stream",
     "text": [
      "4\n",
      "2\n",
      "1\n"
     ]
    }
   ],
   "source": [
    "#Collatz Conjecture\n",
    "# f(n) = n/2, n = even OR 3n+1, n = odd\n",
    "def collatz(n):\n",
    "    if n%2==0:\n",
    "        return n/2\n",
    "    else:\n",
    "        return 3*n + 1\n",
    "\n",
    "n = int(input())\n",
    "\n",
    "print(n)\n",
    "while n>1 :\n",
    "    n = int(collatz(n))\n",
    "    print(n)"
   ]
  },
  {
   "cell_type": "markdown",
   "metadata": {},
   "source": [
    "AND - OR : Conditional Operators"
   ]
  },
  {
   "cell_type": "code",
   "execution_count": 4,
   "metadata": {},
   "outputs": [
    {
     "name": "stdout",
     "output_type": "stream",
     "text": [
      "4\n"
     ]
    }
   ],
   "source": [
    "#If a natural no is less then 10 & even, return half the number, else return the same number\n",
    "n = int(input())\n",
    "if n%2==0 and n<10:\n",
    "    print(int(n/2))\n",
    "else:\n",
    "    print(n)"
   ]
  },
  {
   "cell_type": "code",
   "execution_count": 7,
   "metadata": {},
   "outputs": [
    {
     "name": "stdout",
     "output_type": "stream",
     "text": [
      "33\n"
     ]
    }
   ],
   "source": [
    "# If a ntural number is divisible by 3 or is less than 5, then return its double\n",
    "# if it is not divisible by 3 and is greater than 10, then return its triple\n",
    "# In all other cases, return n as it is\n",
    "def fun1(n):\n",
    "    if n%3==0 or n<5:\n",
    "        return n*2\n",
    "    elif n%3!=0 and n>10:\n",
    "        return n*3\n",
    "    else:\n",
    "        return n\n",
    "n = int(input())\n",
    "print(fun1(n))"
   ]
  },
  {
   "cell_type": "markdown",
   "metadata": {},
   "source": [
    "Nested IF - ELSE"
   ]
  },
  {
   "cell_type": "code",
   "execution_count": 11,
   "metadata": {},
   "outputs": [
    {
     "name": "stdout",
     "output_type": "stream",
     "text": [
      "False\n"
     ]
    }
   ],
   "source": [
    "#Program to check if a year is leap year or not.\n",
    "#If the year is divisible by 100 --> If they are also divisible by 400, then Leap year, else non leap year. \n",
    "#For the years which are not divisible by 100, if they are divisible by 4, then Leap year. Else non leap year.\n",
    "\n",
    "def leap_year(n):\n",
    "    if n%100==0:\n",
    "        if n%400==0:\n",
    "            return True\n",
    "        else:\n",
    "            return False\n",
    "    else:\n",
    "        if n%4==0:\n",
    "            return True\n",
    "        else:\n",
    "            return False\n",
    "n = int(input())\n",
    "print(leap_year(n))"
   ]
  },
  {
   "attachments": {},
   "cell_type": "markdown",
   "metadata": {},
   "source": [
    "# ITERATIONS or LOOPS"
   ]
  },
  {
   "attachments": {},
   "cell_type": "markdown",
   "metadata": {},
   "source": [
    "FOR Loop "
   ]
  },
  {
   "cell_type": "code",
   "execution_count": 3,
   "metadata": {},
   "outputs": [
    {
     "name": "stdout",
     "output_type": "stream",
     "text": [
      "19\n",
      "38\n",
      "57\n",
      "76\n",
      "95\n",
      "114\n",
      "133\n",
      "152\n",
      "171\n",
      "190\n"
     ]
    }
   ],
   "source": [
    "#Print tables of any number n from 1 to 10?\n",
    "n = int(input())\n",
    "\n",
    "def tables(n):\n",
    "    for i in range(10): #Range(10) - ie from 0 to (10-1)=9\n",
    "        print(n*(i+1)) #variable i iterates from OR belongs to {0,1,2...,9}\n",
    "\n",
    "tables(n)"
   ]
  },
  {
   "attachments": {},
   "cell_type": "markdown",
   "metadata": {},
   "source": [
    "WHILE Loop"
   ]
  },
  {
   "cell_type": "code",
   "execution_count": 5,
   "metadata": {},
   "outputs": [
    {
     "name": "stdout",
     "output_type": "stream",
     "text": [
      "10\n",
      "20\n",
      "30\n",
      "40\n",
      "50\n",
      "60\n",
      "70\n",
      "80\n",
      "90\n",
      "100\n"
     ]
    }
   ],
   "source": [
    "#Print tables of any number n from 1 to 10?\n",
    "n = int(input())\n",
    "\n",
    "i = 1\n",
    "while i<= 10:\n",
    "    print(n*i)\n",
    "    i+=1"
   ]
  },
  {
   "attachments": {},
   "cell_type": "markdown",
   "metadata": {},
   "source": [
    "NESTED LOOPS"
   ]
  },
  {
   "cell_type": "code",
   "execution_count": 7,
   "metadata": {},
   "outputs": [
    {
     "name": "stdout",
     "output_type": "stream",
     "text": [
      "A\n",
      "A\n",
      "A\n",
      "A\n",
      "A\n"
     ]
    }
   ],
   "source": [
    "i = 1\n",
    "while i<=5:\n",
    "    print(\"A\")\n",
    "    i += 1"
   ]
  },
  {
   "cell_type": "code",
   "execution_count": 13,
   "metadata": {},
   "outputs": [
    {
     "name": "stdout",
     "output_type": "stream",
     "text": [
      "A\n",
      "AA\n",
      "AAA\n",
      "AAAA\n",
      "AAAAA\n"
     ]
    }
   ],
   "source": [
    "'''\n",
    "Print the following pattern? - Using NESTED Loops\n",
    "A\n",
    "AA\n",
    "AAA\n",
    "AAAA\n",
    "AAAAA\n",
    "'''\n",
    "\n",
    "i = 1\n",
    "while i<=5:\n",
    "    j = 1\n",
    "    while j<=i:\n",
    "        print(\"A\",end = \"\")\n",
    "        j+=1\n",
    "    print()\n",
    "    i += 1"
   ]
  },
  {
   "cell_type": "code",
   "execution_count": 11,
   "metadata": {},
   "outputs": [
    {
     "name": "stdout",
     "output_type": "stream",
     "text": [
      "A\n",
      "AA\n",
      "AAA\n",
      "AAAA\n",
      "AAAAA\n"
     ]
    }
   ],
   "source": [
    "# Print the SAME ABOVE pattern? - Using SINGLE Loop\n",
    "\n",
    "i = 1\n",
    "while i<=5:\n",
    "    print(\"A\"*i) #String Repetition\n",
    "    i+=1"
   ]
  },
  {
   "attachments": {},
   "cell_type": "markdown",
   "metadata": {},
   "source": [
    "EXAMPLES"
   ]
  },
  {
   "cell_type": "code",
   "execution_count": 23,
   "metadata": {},
   "outputs": [
    {
     "name": "stdout",
     "output_type": "stream",
     "text": [
      "2318\n",
      "2318\n"
     ]
    }
   ],
   "source": [
    "#Q1. Program to find sum of all natural nos. less than 100 divisible by either 3 or 5?\n",
    "i = 1\n",
    "sum = 0\n",
    "while i<100:\n",
    "    if i%3==0 or i%5==0:\n",
    "        sum+=i \n",
    "    i+=1\n",
    "print(sum)\n",
    "\n",
    "#Manual Calculation\n",
    "\n",
    "#Sum_AP1 - 3,6,9,12,15,...,99 - 33 terms of AP\n",
    "s1 = 33*(3+99)/2\n",
    "#Sum_AP2 - 5,10,15...,95 - 19 terms of Ap\n",
    "s2 = 19*(5+95)/2\n",
    "#Common_Terms_Diffrence - 15,30...,90 - 6 terms of AP\n",
    "s3 = 6*(15+90)/2\n",
    "print(int(s1+s2-s3))"
   ]
  },
  {
   "cell_type": "code",
   "execution_count": 20,
   "metadata": {},
   "outputs": [
    {
     "name": "stdout",
     "output_type": "stream",
     "text": [
      "ahsina\n"
     ]
    }
   ],
   "source": [
    "#Q2. Program to reverse any string? - While loop\n",
    "string = input()\n",
    "l = len(string)\n",
    "i = 1\n",
    "ans = \"\" #Empty String\n",
    "while i<=l:\n",
    "    ans+=string[-i] #String CONCATENATON (as  STRING is NOT appendable!)\n",
    "    i+=1\n",
    "print(ans)"
   ]
  },
  {
   "cell_type": "code",
   "execution_count": 27,
   "metadata": {},
   "outputs": [
    {
     "name": "stdout",
     "output_type": "stream",
     "text": [
      "nayra\n"
     ]
    }
   ],
   "source": [
    "#Q2. Program to reverse any string? - For loop\n",
    "string = input()\n",
    "l = len(string)\n",
    "ans = \"\" #Empty String\n",
    "for i in range(l): # i - {0,1,2,..,l-1}\n",
    "    ans+=string[-(i+1)] #String CONCATENATON (as  STRING is NOT appendable!)\n",
    "print(ans)\n"
   ]
  },
  {
   "cell_type": "code",
   "execution_count": 40,
   "metadata": {},
   "outputs": [
    {
     "name": "stdout",
     "output_type": "stream",
     "text": [
      "12321\n",
      "Is Palindrome? - True\n"
     ]
    }
   ],
   "source": [
    "#Q2. Program to reverse any string? - Strictly use number functions only. Do NOT use strings.\n",
    "n = int(input())\n",
    "temp1 = n\n",
    "reverse = 0 \n",
    "# Taken eg: 12345\n",
    "while temp1>0 : #LOOP Runs Until temp1 > 0 - jab tak koi digit bachi hai temp1 me uthane ko ;)\n",
    "    temp2 = temp1%10 #temp2 = units digit of temp1 - eg: 5 se 4 se 3 se 2 se 1\n",
    "    reverse = reverse*10 + temp2 #Purane reverse ko 10 se multiply karo ie sab digits ko aage shift karo & temp2 daaldo units place pe - eg: 5 se 50+4\n",
    "    temp1//=10 #temp1 me units digit hta do - ie go to next index (Right To Left) - next digit utho ab - eg: 12345 se 1234 se 123 se 12 se 1 se 0\n",
    "print(reverse)\n",
    "\n",
    "print(\"Is Palindrome? -\", n==reverse)"
   ]
  },
  {
   "cell_type": "code",
   "execution_count": 26,
   "metadata": {},
   "outputs": [
    {
     "name": "stdout",
     "output_type": "stream",
     "text": [
      "True\n"
     ]
    }
   ],
   "source": [
    "#Q3. Program to check if a number is PALINDROME or Not? (Palindrome - Aage se & Peeche se SAME) - While Loop\n",
    "string = input()\n",
    "l = len(string)\n",
    "i = 1\n",
    "ans = \"\" #Empty String\n",
    "while i<=l:\n",
    "    ans+=string[-i] #String CONCATENATON (as  STRING is NOT appendable!)\n",
    "    i+=1\n",
    "#string - orignal number, ans - reversed number\n",
    "print(string==ans)"
   ]
  },
  {
   "cell_type": "code",
   "execution_count": 35,
   "metadata": {},
   "outputs": [
    {
     "name": "stdout",
     "output_type": "stream",
     "text": [
      "False\n"
     ]
    }
   ],
   "source": [
    "#Q3. Program to check if a number is PALINDROME or Not? (Palindrome - Aage se & Peeche se SAME) - For Loop \n",
    "a = input()\n",
    "l = len(a)\n",
    "flag = True\n",
    "for i in range(int((l/2)+1)): #Can run for range(l) - BUT FOR EFFIENCY RUN LOOP TILL HALF ONLY :)\n",
    "    if a[i]!=a[l-i-1]: #Checking corresponding element aage se & peeche se :)\n",
    "        flag = False\n",
    "        break #FOR EFFIENCY - break loop as soon as non palindromic number\n",
    "print(flag)"
   ]
  },
  {
   "attachments": {},
   "cell_type": "markdown",
   "metadata": {},
   "source": [
    "NOTE: (\"{:02d}\".format(num)) - Prints 01 intsted of 1 for all 1 digit nos. - & No effect on 2 digit nos."
   ]
  }
 ],
 "metadata": {
  "kernelspec": {
   "display_name": "Python 3.9.6 64-bit",
   "language": "python",
   "name": "python3"
  },
  "language_info": {
   "codemirror_mode": {
    "name": "ipython",
    "version": 3
   },
   "file_extension": ".py",
   "mimetype": "text/x-python",
   "name": "python",
   "nbconvert_exporter": "python",
   "pygments_lexer": "ipython3",
   "version": "3.9.6 (default, Oct 18 2022, 12:41:40) \n[Clang 14.0.0 (clang-1400.0.29.202)]"
  },
  "orig_nbformat": 4,
  "vscode": {
   "interpreter": {
    "hash": "31f2aee4e71d21fbe5cf8b01ff0e069b9275f58929596ceb00d14d90e3e16cd6"
   }
  }
 },
 "nbformat": 4,
 "nbformat_minor": 2
}
